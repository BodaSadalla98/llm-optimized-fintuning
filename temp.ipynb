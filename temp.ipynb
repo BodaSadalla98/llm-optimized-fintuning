{
 "cells": [
  {
   "cell_type": "code",
   "execution_count": 2,
   "metadata": {},
   "outputs": [],
   "source": [
    "import pathlib\n",
    "from datasets import load_dataset\n",
    "import torch\n",
    "from transformers import AutoModelForCausalLM, AutoTokenizer, BitsAndBytesConfig, AutoTokenizer\n",
    "from transformers import TrainingArguments\n",
    "from trl import SFTTrainer\n",
    "from evaluate import load\n",
    "from peft import LoraConfig, prepare_model_for_kbit_training\n",
    "from args_parser import get_args\n",
    "import re\n",
    "from pathlib import Path\n",
    "from utils import *"
   ]
  },
  {
   "cell_type": "code",
   "execution_count": 3,
   "metadata": {},
   "outputs": [
    {
     "name": "stderr",
     "output_type": "stream",
     "text": [
      "usage: ipykernel_launcher.py [-h] [--report_to REPORT_TO]\n",
      "                             [--max_steps MAX_STEPS] [--save_steps SAVE_STEPS]\n",
      "                             [--logging_steps LOGGING_STEPS]\n",
      "                             [--max_seq_length MAX_SEQ_LENGTH]\n",
      "                             [--checkpoint_path CHECKPOINT_PATH]\n",
      "                             [--do_eval DO_EVAL] [--do_train DO_TRAIN]\n",
      "                             [--evaluation_strategy EVALUATION_STRATEGY]\n",
      "                             [--eval_steps EVAL_STEPS] [--log_level LOG_LEVEL]\n",
      "                             [--logging_strategy LOGGING_STRATEGY]\n",
      "                             [--save_total_limit SAVE_TOTAL_LIMIT]\n",
      "                             [--run_name RUN_NAME] [--base_prompt BASE_PROMPT]\n",
      "                             [--train_dataset_source_path TRAIN_DATASET_SOURCE_PATH]\n",
      "                             [--train_dataset_target_path TRAIN_DATASET_TARGET_PATH]\n",
      "                             [--val_dataset_source_path VAL_DATASET_SOURCE_PATH]\n",
      "                             [--val_dataset_target_path VAL_DATASET_TARGET_PATH]\n",
      "                             [--field FIELD] [--model_name MODEL_NAME]\n",
      "                             [--output_dir OUTPUT_DIR]\n",
      "                             [--per_device_train_batch_size PER_DEVICE_TRAIN_BATCH_SIZE]\n",
      "                             [--per_device_val_batch_size PER_DEVICE_VAL_BATCH_SIZE]\n",
      "                             [--gradient_accumulation_steps GRADIENT_ACCUMULATION_STEPS]\n",
      "                             [--optim OPTIM] [--learning_rate LEARNING_RATE]\n",
      "                             [--max_grad_norm MAX_GRAD_NORM]\n",
      "                             [--warmup_ratio WARMUP_RATIO]\n",
      "                             [--lr_scheduler_type LR_SCHEDULER_TYPE]\n",
      "                             [--group_by_length GROUP_BY_LENGTH]\n",
      "                             [--bnb_4bit_quant_type BNB_4BIT_QUANT_TYPE]\n",
      "                             [--bnb_4bit_compute_dtype BNB_4BIT_COMPUTE_DTYPE]\n",
      "                             [--bnb_4bit_use_double_quant BNB_4BIT_USE_DOUBLE_QUANT]\n",
      "                             [--gradient_checkpointing GRADIENT_CHECKPOINTING]\n",
      "                             [--lora_alpha LORA_ALPHA]\n",
      "                             [--lora_dropout LORA_DROPOUT] [--lora_r LORA_R]\n",
      "                             [--bias BIAS] [--task_type TASK_TYPE]\n",
      "                             [--target_modules TARGET_MODULES]\n",
      "ipykernel_launcher.py: error: unrecognized arguments: --ip=127.0.0.1 --stdin=9008 --control=9006 --hb=9005 --Session.signature_scheme=\"hmac-sha256\" --Session.key=b\"14fc8125-6844-47e8-9d23-46ff5c553fdf\" --shell=9007 --transport=\"tcp\" --iopub=9009\n"
     ]
    },
    {
     "ename": "SystemExit",
     "evalue": "2",
     "output_type": "error",
     "traceback": [
      "An exception has occurred, use %tb to see the full traceback.\n",
      "\u001b[0;31mSystemExit\u001b[0m\u001b[0;31m:\u001b[0m 2\n"
     ]
    },
    {
     "name": "stderr",
     "output_type": "stream",
     "text": [
      "/home/abdelrahman.sadallah/.conda/envs/nlp/lib/python3.10/site-packages/IPython/core/interactiveshell.py:3516: UserWarning: To exit: use 'exit', 'quit', or Ctrl-D.\n",
      "  warn(\"To exit: use 'exit', 'quit', or Ctrl-D.\", stacklevel=1)\n"
     ]
    }
   ],
   "source": [
    "args = get_args()    \n",
    "\n",
    "train_dataset, val_dataset = get_datasets(train_dataset_source_path=args.train_dataset_source_path,\n",
    "                                                     train_dataset_target_path=args.train_dataset_target_path,\n",
    "                                                     val_dataset_source_path=args.val_dataset_source_path,\n",
    "                                                     val_dataset_target_path=args.val_dataset_target_path,\n",
    "                                                     field = args.field)"
   ]
  }
 ],
 "metadata": {
  "kernelspec": {
   "display_name": "Python 3",
   "language": "python",
   "name": "python3"
  },
  "language_info": {
   "codemirror_mode": {
    "name": "ipython",
    "version": 3
   },
   "file_extension": ".py",
   "mimetype": "text/x-python",
   "name": "python",
   "nbconvert_exporter": "python",
   "pygments_lexer": "ipython3",
   "version": "3.10.12"
  },
  "orig_nbformat": 4
 },
 "nbformat": 4,
 "nbformat_minor": 2
}
