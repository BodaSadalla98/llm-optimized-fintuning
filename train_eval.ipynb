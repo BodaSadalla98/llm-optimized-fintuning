{
 "cells": [
  {
   "cell_type": "code",
   "execution_count": 1,
   "metadata": {},
   "outputs": [
    {
     "name": "stdout",
     "output_type": "stream",
     "text": [
      "Found cached dataset text (/home/daria.kotova/.cache/huggingface/datasets/text/default-ef683339c6e1d1b5/0.0.0/cb1e9bd71a82ad27976be3b12b407850fe2837d80c22c5e03a28949843a8ace2)\n",
      "Found cached dataset text (/home/daria.kotova/.cache/huggingface/datasets/text/default-594e1b1157c143e0/0.0.0/cb1e9bd71a82ad27976be3b12b407850fe2837d80c22c5e03a28949843a8ace2)\n",
      "Loading cached processed dataset at /home/daria.kotova/.cache/huggingface/datasets/text/default-ef683339c6e1d1b5/0.0.0/cb1e9bd71a82ad27976be3b12b407850fe2837d80c22c5e03a28949843a8ace2/cache-f74c4750f7345492.arrow\n",
      "1. Loaded dataset.\n",
      "Loading checkpoint shards:  50%|█████████         | 1/2 [00:42<00:42, 42.63s/it]\n",
      "Traceback (most recent call last):\n",
      "  File \"/home/daria.kotova/ai/llm-optimized-fintuning/calc_metrics.py\", line 44, in <module>\n",
      "    model = AutoModelForCausalLM.from_pretrained(\n",
      "            ^^^^^^^^^^^^^^^^^^^^^^^^^^^^^^^^^^^^^\n",
      "  File \"/home/daria.kotova/miniconda3/lib/python3.11/site-packages/transformers/models/auto/auto_factory.py\", line 566, in from_pretrained\n",
      "    return model_class.from_pretrained(\n",
      "           ^^^^^^^^^^^^^^^^^^^^^^^^^^^^\n",
      "  File \"/home/daria.kotova/miniconda3/lib/python3.11/site-packages/transformers/modeling_utils.py\", line 3480, in from_pretrained\n",
      "    ) = cls._load_pretrained_model(\n",
      "        ^^^^^^^^^^^^^^^^^^^^^^^^^^^\n",
      "  File \"/home/daria.kotova/miniconda3/lib/python3.11/site-packages/transformers/modeling_utils.py\", line 3870, in _load_pretrained_model\n",
      "    new_error_msgs, offload_index, state_dict_index = _load_state_dict_into_meta_model(\n",
      "                                                      ^^^^^^^^^^^^^^^^^^^^^^^^^^^^^^^^^\n",
      "  File \"/home/daria.kotova/miniconda3/lib/python3.11/site-packages/transformers/modeling_utils.py\", line 751, in _load_state_dict_into_meta_model\n",
      "    set_module_quantized_tensor_to_device(\n",
      "  File \"/home/daria.kotova/miniconda3/lib/python3.11/site-packages/transformers/integrations/bitsandbytes.py\", line 98, in set_module_quantized_tensor_to_device\n",
      "    new_value = bnb.nn.Params4bit(new_value, requires_grad=False, **kwargs).to(device)\n",
      "                ^^^^^^^^^^^^^^^^^^^^^^^^^^^^^^^^^^^^^^^^^^^^^^^^^^^^^^^^^^^^^^^^^^^^^^\n",
      "  File \"/home/daria.kotova/miniconda3/lib/python3.11/site-packages/bitsandbytes/nn/modules.py\", line 191, in to\n",
      "    return self.cuda(device)\n",
      "           ^^^^^^^^^^^^^^^^^\n",
      "  File \"/home/daria.kotova/miniconda3/lib/python3.11/site-packages/bitsandbytes/nn/modules.py\", line 168, in cuda\n",
      "    w = self.data.contiguous().half().cuda(device)\n",
      "        ^^^^^^^^^^^^^^^^^^^^^^^^^^^^^^^^^^^^^^^^^^\n",
      "torch.cuda.OutOfMemoryError: CUDA out of memory. Tried to allocate 86.00 MiB. GPU 0 has a total capacty of 23.62 GiB of which 79.31 MiB is free. Process 1946715 has 19.72 GiB memory in use. Including non-PyTorch memory, this process has 3.36 GiB memory in use. Of the allocated memory 3.06 GiB is allocated by PyTorch, and 125.41 MiB is reserved by PyTorch but unallocated. If reserved but unallocated memory is large try setting max_split_size_mb to avoid fragmentation.  See documentation for Memory Management and PYTORCH_CUDA_ALLOC_CONF\n"
     ]
    }
   ],
   "source": [
    "!python calc_metrics.py --checkpoint_path=\"experiments/Llama-2-7b-hf/checkpoint-10000\" --per_device_val_batch_size=2\n"
   ]
  },
  {
   "cell_type": "code",
   "execution_count": null,
   "metadata": {},
   "outputs": [],
   "source": []
  }
 ],
 "metadata": {
  "kernelspec": {
   "display_name": "Python 3",
   "language": "python",
   "name": "python3"
  },
  "language_info": {
   "codemirror_mode": {
    "name": "ipython",
    "version": 3
   },
   "file_extension": ".py",
   "mimetype": "text/x-python",
   "name": "python",
   "nbconvert_exporter": "python",
   "pygments_lexer": "ipython3",
   "version": "3.11.4"
  },
  "orig_nbformat": 4
 },
 "nbformat": 4,
 "nbformat_minor": 2
}
