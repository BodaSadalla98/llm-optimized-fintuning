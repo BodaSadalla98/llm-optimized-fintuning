{
 "cells": [
  {
   "cell_type": "code",
   "execution_count": 1,
   "metadata": {},
   "outputs": [],
   "source": [
    "import torch\n",
    "from peft import PeftModel    \n",
    "from transformers import AutoModelForCausalLM, AutoTokenizer, LlamaTokenizer, StoppingCriteria, StoppingCriteriaList, TextIteratorStreamer\n",
    "\n"
   ]
  },
  {
   "cell_type": "code",
   "execution_count": 2,
   "metadata": {},
   "outputs": [
    {
     "name": "stdout",
     "output_type": "stream",
     "text": [
      "Starting to load the model mistralai/Mistral-7B-v0.1 into memory\n"
     ]
    },
    {
     "data": {
      "application/vnd.jupyter.widget-view+json": {
       "model_id": "58e0327b573d40fbbf9e34381e4675a5",
       "version_major": 2,
       "version_minor": 0
      },
      "text/plain": [
       "Loading checkpoint shards:   0%|          | 0/2 [00:00<?, ?it/s]"
      ]
     },
     "metadata": {},
     "output_type": "display_data"
    },
    {
     "name": "stderr",
     "output_type": "stream",
     "text": [
      "Special tokens have been added in the vocabulary, make sure the associated word embeddings are fine-tuned or trained.\n"
     ]
    },
    {
     "name": "stdout",
     "output_type": "stream",
     "text": [
      "Successfully loaded the model mistralai/Mistral-7B-v0.1 into memory\n"
     ]
    }
   ],
   "source": [
    "adapters_name  = \"experiments/checkpoint-8800\"\n",
    "model_name = \"mistralai/Mistral-7B-v0.1\"\n",
    "\n",
    "\n",
    "print(f\"Starting to load the model {model_name} into memory\")\n",
    "\n",
    "m = AutoModelForCausalLM.from_pretrained(\n",
    "    model_name,\n",
    "    load_in_4bit=True,\n",
    "    torch_dtype=torch.bfloat16,\n",
    "    device_map='auto'\n",
    ")\n",
    "m = PeftModel.from_pretrained(m, adapters_name)\n",
    "# m = m.merge_and_unload()\n",
    "tok = LlamaTokenizer.from_pretrained(model_name)\n",
    "tok.bos_token_id = 1\n",
    "stop_token_ids = [0]\n",
    "\n",
    "print(f\"Successfully loaded the model {model_name} into memory\")"
   ]
  },
  {
   "cell_type": "code",
   "execution_count": 3,
   "metadata": {},
   "outputs": [],
   "source": [
    "\n",
    "\n",
    "def gen(model, text: str):\n",
    "    inputs = tok(text, return_tensors=\"pt\").to('cuda')\n",
    "    inputs_length = len(inputs[\"input_ids\"][0])\n",
    "    with torch.inference_mode():\n",
    "        outputs = model.generate(**inputs, max_new_tokens=256)\n",
    "    return tok.decode(outputs[0][inputs_length:], skip_special_tokens=True)\n",
    "     \n"
   ]
  },
  {
   "cell_type": "code",
   "execution_count": 4,
   "metadata": {},
   "outputs": [
    {
     "name": "stderr",
     "output_type": "stream",
     "text": [
      "Setting `pad_token_id` to `eos_token_id`:2 for open-end generation.\n",
      "spaces_between_special_tokens is deprecated and will be removed in transformers v5. It was adding spaces between `added_tokens`, not special tokens, and does not exist in our fast implementation. Future tokenizers will handle the decoding process on a per-model rule.\n"
     ]
    },
    {
     "name": "stdout",
     "output_type": "stream",
     "text": [
      "\n",
      "### Response:\n",
      "`` And then , there were none . '' <newline> <newline> `` What do you mean ? '' <newline> <newline> `` I mean , there were none . '' <newline> <newline> `` But , there were n't none . There were two . '' <newline> <newline> `` No , there were none . '' <newline> <newline> `` But , there were two . '' <newline> <newline> `` No , there were none . '' <newline> <newline> `` But , there were two . '' <newline> <newline> `` No , there were none . '' <newline> <newline> `` But , there were two . '' <newline> <newline> `` No , there were none . '' <newline> <newline> `` But , there were two . '' <newline> <newline> `` No , there were none . '' <newnewline> <newline> `` But , there were two . '' <newline> <newline> `` No , there were none . '' <newline> <newline> `` But\n"
     ]
    }
   ],
   "source": [
    "text = '''### Instruction:  Below is a story idea. Write a short story based on this context.\n",
    "\n",
    "### Input:\n",
    "Happy kid was playing at the park, but then he broke his leg, and his life got completely changed.\n",
    "'''\n",
    "\n",
    "\n",
    "print(gen(m, text))"
   ]
  },
  {
   "cell_type": "code",
   "execution_count": null,
   "metadata": {},
   "outputs": [],
   "source": []
  }
 ],
 "metadata": {
  "kernelspec": {
   "display_name": "Python 3",
   "language": "python",
   "name": "python3"
  },
  "language_info": {
   "codemirror_mode": {
    "name": "ipython",
    "version": 3
   },
   "file_extension": ".py",
   "mimetype": "text/x-python",
   "name": "python",
   "nbconvert_exporter": "python",
   "pygments_lexer": "ipython3",
   "version": "3.10.12"
  },
  "orig_nbformat": 4
 },
 "nbformat": 4,
 "nbformat_minor": 2
}
