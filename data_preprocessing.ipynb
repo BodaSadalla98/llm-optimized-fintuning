{
 "cells": [
  {
   "cell_type": "code",
   "execution_count": 1,
   "metadata": {},
   "outputs": [
    {
     "data": {
      "application/vnd.jupyter.widget-view+json": {
       "model_id": "37b57dae76c149bab426ff8db590ca2b",
       "version_major": 2,
       "version_minor": 0
      },
      "text/plain": [
       "Downloading readme:   0%|          | 0.00/4.25k [00:00<?, ?B/s]"
      ]
     },
     "metadata": {},
     "output_type": "display_data"
    },
    {
     "data": {
      "application/vnd.jupyter.widget-view+json": {
       "model_id": "941b02eca17a4f9fa17d2c665fd7fdc9",
       "version_major": 2,
       "version_minor": 0
      },
      "text/plain": [
       "Downloading data files:   0%|          | 0/1 [00:00<?, ?it/s]"
      ]
     },
     "metadata": {},
     "output_type": "display_data"
    },
    {
     "data": {
      "application/vnd.jupyter.widget-view+json": {
       "model_id": "04849f0fd7b7470fb6506437b61a20fa",
       "version_major": 2,
       "version_minor": 0
      },
      "text/plain": [
       "Downloading data:   0%|          | 0.00/177M [00:00<?, ?B/s]"
      ]
     },
     "metadata": {},
     "output_type": "display_data"
    },
    {
     "data": {
      "application/vnd.jupyter.widget-view+json": {
       "model_id": "058c4414fd3d416498a76a813a07370f",
       "version_major": 2,
       "version_minor": 0
      },
      "text/plain": [
       "Downloading data:   0%|          | 0.00/195M [00:00<?, ?B/s]"
      ]
     },
     "metadata": {},
     "output_type": "display_data"
    },
    {
     "data": {
      "application/vnd.jupyter.widget-view+json": {
       "model_id": "24dda29fc7354659adaa8007eda20ae7",
       "version_major": 2,
       "version_minor": 0
      },
      "text/plain": [
       "Extracting data files:   0%|          | 0/1 [00:00<?, ?it/s]"
      ]
     },
     "metadata": {},
     "output_type": "display_data"
    },
    {
     "data": {
      "application/vnd.jupyter.widget-view+json": {
       "model_id": "59323d8de0a54012ad699cfd12721ac7",
       "version_major": 2,
       "version_minor": 0
      },
      "text/plain": [
       "Generating train split:   0%|          | 0/212499 [00:00<?, ? examples/s]"
      ]
     },
     "metadata": {},
     "output_type": "display_data"
    }
   ],
   "source": [
    "from datasets import load_dataset\n",
    "import torch\n",
    "from transformers import AutoModelForCausalLM, AutoTokenizer, BitsAndBytesConfig, AutoTokenizer\n",
    "\n",
    "\n",
    "dataset = load_dataset(\"arbml/Ashaar_dataset\") \n",
    "\n"
   ]
  },
  {
   "cell_type": "code",
   "execution_count": 5,
   "metadata": {},
   "outputs": [
    {
     "data": {
      "text/plain": [
       "{'poem title': 'أصبح الملك للذي فطر الخلق',\n",
       " 'poem meter': 'الخفيف',\n",
       " 'poem verses': ['أَصبَحَ المُلك لِلَّذي فَطر الخَل',\n",
       "  'قَ بِتَقديرٍ للعَزيز العَليمِ',\n",
       "  'غافر الذَنب للمسيءِ بِعَفوٍ',\n",
       "  'قابل التَوب ذي العَطاء العَميمِ',\n",
       "  'مُرسل المُصطَفى البَشير ِلَينا',\n",
       "  'رَحمة مِنهُ بِالكَلام القَديمِ',\n",
       "  'رَبَنا رَبّنا ِلَيكَ أَنينا',\n",
       "  'فَأَجرنا مِن حَر نار الجَحيمِ',\n",
       "  'وَاكفِنا شَرّ ما نَخاف بِلُطفٍ',\n",
       "  'يا عَظيماً يَرجى لِكُل عَظيمِ',\n",
       "  'وَتَقبل أَعمالَنا وَاعفُ عَنا',\n",
       "  'وَأَنلنا دُخول دار النَعيمِ',\n",
       "  'بِنَبي بَعثَتهُ فَهَدانا',\n",
       "  'لِصِراط مِن الهُدى مُستَقيمِ',\n",
       "  'وَبِمَن نَحنُ في حِماهُ مَدى الدَهر',\n",
       "  'أَخيهِ يَحيى الحصور الكَريمِ',\n",
       "  'أَدرك أَدرك قَوماً أَتوا بافتقار',\n",
       "  'وَاِنكِسار وَمَدمَع مَسجومِ',\n",
       "  'شَهدت أَرواحَهُم أَنكَ اللَهُ',\n",
       "  'وَجاءوا بِكُل قَلبٍ سَليم'],\n",
       " 'poem theme': 'قصيدة دينية',\n",
       " 'poem url': 'https://www.aldiwan.net/poem16182.html',\n",
       " 'poet name': 'الامير منجك باشا',\n",
       " 'poet description': 'منجك بن محمد بن منجك بن ابي بكر بن عبد القادر بن ابراهيم بن منجك اليوسفي الكبير\\nاكبر شعراء عصره من اهل دمشق من بيت امارة و رياسة\\nانفق في صباه ما ورثه عن ابوه و انزوى ثم رحل الى الديار التركية و مدح السلطان ابراهيم و لم يظفر بطائل\\nفعاد الى دمشق و عاش فيها في ستر و جاه الى ان توفي بها.',\n",
       " 'poet url': 'https://www.aldiwan.net/cat-poet-alamir-mnczyk-pasha',\n",
       " 'poet era': 'العصر العثماني',\n",
       " 'poet location': None,\n",
       " 'poem description': None,\n",
       " 'poem language type': None,\n",
       " 'text': '<|meter_0|> م <|theme_18|> <|psep|> <|bsep|> أَصبَحَ المُلك لِلَّذي فَطر الخَل <|vsep|> قَ بِتَقديرٍ للعَزيز العَليمِ </|bsep|> <|bsep|> غافر الذَنب للمسيءِ بِعَفوٍ <|vsep|> قابل التَوب ذي العَطاء العَميمِ </|bsep|> <|bsep|> مُرسل المُصطَفى البَشير ِلَينا <|vsep|> رَحمة مِنهُ بِالكَلام القَديمِ </|bsep|> <|bsep|> رَبَنا رَبّنا ِلَيكَ أَنينا <|vsep|> فَأَجرنا مِن حَر نار الجَحيمِ </|bsep|> <|bsep|> وَاكفِنا شَرّ ما نَخاف بِلُطفٍ <|vsep|> يا عَظيماً يَرجى لِكُل عَظيمِ </|bsep|> <|bsep|> وَتَقبل أَعمالَنا وَاعفُ عَنا <|vsep|> وَأَنلنا دُخول دار النَعيمِ </|bsep|> <|bsep|> بِنَبي بَعثَتهُ فَهَدانا <|vsep|> لِصِراط مِن الهُدى مُستَقيمِ </|bsep|> <|bsep|> وَبِمَن نَحنُ في حِماهُ مَدى الدَهر <|vsep|> أَخيهِ يَحيى الحصور الكَريمِ </|bsep|> <|bsep|> أَدرك أَدرك قَوماً أَتوا بافتقار <|vsep|> وَاِنكِسار وَمَدمَع مَسجومِ </|bsep|> </|psep|>'}"
      ]
     },
     "execution_count": 5,
     "metadata": {},
     "output_type": "execute_result"
    }
   ],
   "source": [
    "dataset['train'][0]"
   ]
  },
  {
   "cell_type": "code",
   "execution_count": 24,
   "metadata": {},
   "outputs": [],
   "source": [
    "import pyarabic.araby as araby\n",
    "\n",
    "DEFAULT_ARABIC_SYSTEM_PROMPT = \"\"\"\n",
    "Generate a poem based on the following title, and the given era:\n",
    "\"\"\".strip()\n",
    "def generate_arabic_training_prompt(\n",
    "    example: dict,\n",
    "    field: str = 'poem',\n",
    "    train = True,\n",
    ") -> str:\n",
    "    \n",
    "\n",
    "    verses = example['poem verses']\n",
    "    era = example['poet era']\n",
    "    title = example['poem title']\n",
    "    \n",
    "    if not era:\n",
    "        example['poet era'] = \"العصر الجاهلي\"\n",
    "        era = example['poet era']\n",
    "    if not title:\n",
    "        example['poem title'] = \"العصر الجاهلي\"\n",
    "        title = example['poem title']\n",
    "    \n",
    "    \n",
    "\n",
    "    poem = ''\n",
    "    for verse in verses:\n",
    "\n",
    "        verse = verse.strip()\n",
    "        verse = araby.strip_diacritics(verse)\n",
    "        poem += verse\n",
    "        poem += '\\n'\n",
    "\n",
    "\n",
    "    example['poem'] = poem\n",
    "\n",
    "    if train:\n",
    "        example[field] = f\"\"\"### Instruction: {DEFAULT_ARABIC_SYSTEM_PROMPT}\n",
    "\n",
    "    ### Input:\n",
    "    {title.strip()} , {era.strip()}\n",
    "\n",
    "    ### Response:\n",
    "    {poem}\n",
    "    \"\"\".strip()\n",
    "\n",
    "\n",
    "    else:\n",
    "\n",
    "        example[field] =  f\"\"\"### Instruction: {DEFAULT_ARABIC_SYSTEM_PROMPT}\n",
    "\n",
    "    ### Input:\n",
    "    {title.strip()} , {era.strip()}\n",
    "    \"\"\".strip()  \n",
    "\n",
    "    return example"
   ]
  },
  {
   "cell_type": "code",
   "execution_count": 30,
   "metadata": {},
   "outputs": [],
   "source": [
    "def get_arabic_datasets(dataset_name = \"arbml/Ashaar_dataset\",field = 'prompt'):\n",
    "\n",
    "    train_dataset = load_dataset(dataset_name,split='train[:80%]')\n",
    "    val_dataset = load_dataset(dataset_name,split='train[80%:90%]')\n",
    "    test_dataset = load_dataset(dataset_name,split='train[90%:]')\n",
    "\n",
    "\n",
    "\n",
    "\n",
    "    train_dataset = train_dataset.map(generate_arabic_training_prompt, fn_kwargs={\"field\": field, \"train\" : True})\n",
    "    val_dataset = val_dataset.map(generate_arabic_training_prompt, fn_kwargs={\"field\": field , \"train\" : False})\n",
    "    test_dataset = test_dataset.map(generate_arabic_training_prompt, fn_kwargs={\"field\": field , \"train\" : False})\n",
    "\n",
    "\n",
    "    train_dataset = train_dataset.select_columns([field, 'poem'])\n",
    "    val_dataset = val_dataset.select_columns([field, 'poem'])\n",
    "    test_dataset = test_dataset.select_columns([field, 'poem'])\n",
    "    \n",
    "\n",
    "    return train_dataset, val_dataset, test_dataset"
   ]
  },
  {
   "cell_type": "code",
   "execution_count": 31,
   "metadata": {},
   "outputs": [],
   "source": [
    "train_dataset, val_dataset, test_dataset = get_arabic_datasets(field = 'prompt')"
   ]
  },
  {
   "cell_type": "code",
   "execution_count": 32,
   "metadata": {},
   "outputs": [
    {
     "data": {
      "text/plain": [
       "{'prompt': '### Instruction: Generate a poem based on the following title, and the given era:\\n\\n    ### Input:\\n    أصبح الملك للذي فطر الخلق , العصر العثماني\\n\\n    ### Response:\\n    أصبح الملك للذي فطر الخل\\nق بتقدير للعزيز العليم\\nغافر الذنب للمسيء بعفو\\nقابل التوب ذي العطاء العميم\\nمرسل المصطفى البشير لينا\\nرحمة منه بالكلام القديم\\nربنا ربنا ليك أنينا\\nفأجرنا من حر نار الجحيم\\nواكفنا شر ما نخاف بلطف\\nيا عظيما يرجى لكل عظيم\\nوتقبل أعمالنا واعف عنا\\nوأنلنا دخول دار النعيم\\nبنبي بعثته فهدانا\\nلصراط من الهدى مستقيم\\nوبمن نحن في حماه مدى الدهر\\nأخيه يحيى الحصور الكريم\\nأدرك أدرك قوما أتوا بافتقار\\nوانكسار ومدمع مسجوم\\nشهدت أرواحهم أنك الله\\nوجاءوا بكل قلب سليم',\n",
       " 'poem': 'أصبح الملك للذي فطر الخل\\nق بتقدير للعزيز العليم\\nغافر الذنب للمسيء بعفو\\nقابل التوب ذي العطاء العميم\\nمرسل المصطفى البشير لينا\\nرحمة منه بالكلام القديم\\nربنا ربنا ليك أنينا\\nفأجرنا من حر نار الجحيم\\nواكفنا شر ما نخاف بلطف\\nيا عظيما يرجى لكل عظيم\\nوتقبل أعمالنا واعف عنا\\nوأنلنا دخول دار النعيم\\nبنبي بعثته فهدانا\\nلصراط من الهدى مستقيم\\nوبمن نحن في حماه مدى الدهر\\nأخيه يحيى الحصور الكريم\\nأدرك أدرك قوما أتوا بافتقار\\nوانكسار ومدمع مسجوم\\nشهدت أرواحهم أنك الله\\nوجاءوا بكل قلب سليم\\n'}"
      ]
     },
     "execution_count": 32,
     "metadata": {},
     "output_type": "execute_result"
    }
   ],
   "source": [
    "train_dataset[0]"
   ]
  }
 ],
 "metadata": {
  "kernelspec": {
   "display_name": "Python 3",
   "language": "python",
   "name": "python3"
  },
  "language_info": {
   "codemirror_mode": {
    "name": "ipython",
    "version": 3
   },
   "file_extension": ".py",
   "mimetype": "text/x-python",
   "name": "python",
   "nbconvert_exporter": "python",
   "pygments_lexer": "ipython3",
   "version": "3.10.12"
  },
  "orig_nbformat": 4
 },
 "nbformat": 4,
 "nbformat_minor": 2
}
