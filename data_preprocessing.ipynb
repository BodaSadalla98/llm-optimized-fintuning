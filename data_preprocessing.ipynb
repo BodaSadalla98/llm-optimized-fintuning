{
  "nbformat": 4,
  "nbformat_minor": 0,
  "metadata": {
    "colab": {
      "provenance": []
    },
    "kernelspec": {
      "name": "python3",
      "display_name": "Python 3"
    },
    "language_info": {
      "name": "python"
    },
    "widgets": {
      "application/vnd.jupyter.widget-state+json": {
        "a0680578edca4d24998a0fb3a6205055": {
          "model_module": "@jupyter-widgets/controls",
          "model_name": "HBoxModel",
          "model_module_version": "1.5.0",
          "state": {
            "_dom_classes": [],
            "_model_module": "@jupyter-widgets/controls",
            "_model_module_version": "1.5.0",
            "_model_name": "HBoxModel",
            "_view_count": null,
            "_view_module": "@jupyter-widgets/controls",
            "_view_module_version": "1.5.0",
            "_view_name": "HBoxView",
            "box_style": "",
            "children": [
              "IPY_MODEL_fd695c448b68477bb437b048e42a7900",
              "IPY_MODEL_e93f67ecbf8e4c94af095fabddf549da",
              "IPY_MODEL_290f7afa320b410581b940dea962e8c4"
            ],
            "layout": "IPY_MODEL_071797fea25b449ca0adb4b976e10cf7"
          }
        },
        "fd695c448b68477bb437b048e42a7900": {
          "model_module": "@jupyter-widgets/controls",
          "model_name": "HTMLModel",
          "model_module_version": "1.5.0",
          "state": {
            "_dom_classes": [],
            "_model_module": "@jupyter-widgets/controls",
            "_model_module_version": "1.5.0",
            "_model_name": "HTMLModel",
            "_view_count": null,
            "_view_module": "@jupyter-widgets/controls",
            "_view_module_version": "1.5.0",
            "_view_name": "HTMLView",
            "description": "",
            "description_tooltip": null,
            "layout": "IPY_MODEL_2a6aac37ff2c4ee0b12106ed702add24",
            "placeholder": "​",
            "style": "IPY_MODEL_49c3401cc8d04e9faf1e987a30d59b93",
            "value": "Downloading data files: 100%"
          }
        },
        "e93f67ecbf8e4c94af095fabddf549da": {
          "model_module": "@jupyter-widgets/controls",
          "model_name": "FloatProgressModel",
          "model_module_version": "1.5.0",
          "state": {
            "_dom_classes": [],
            "_model_module": "@jupyter-widgets/controls",
            "_model_module_version": "1.5.0",
            "_model_name": "FloatProgressModel",
            "_view_count": null,
            "_view_module": "@jupyter-widgets/controls",
            "_view_module_version": "1.5.0",
            "_view_name": "ProgressView",
            "bar_style": "success",
            "description": "",
            "description_tooltip": null,
            "layout": "IPY_MODEL_7cbf28e7b29b4ef99f5f3e463987073d",
            "max": 1,
            "min": 0,
            "orientation": "horizontal",
            "style": "IPY_MODEL_58d7d7f6a85b429ab8132a0fd49eea37",
            "value": 1
          }
        },
        "290f7afa320b410581b940dea962e8c4": {
          "model_module": "@jupyter-widgets/controls",
          "model_name": "HTMLModel",
          "model_module_version": "1.5.0",
          "state": {
            "_dom_classes": [],
            "_model_module": "@jupyter-widgets/controls",
            "_model_module_version": "1.5.0",
            "_model_name": "HTMLModel",
            "_view_count": null,
            "_view_module": "@jupyter-widgets/controls",
            "_view_module_version": "1.5.0",
            "_view_name": "HTMLView",
            "description": "",
            "description_tooltip": null,
            "layout": "IPY_MODEL_f48df274cddf4429b0fe3c83bafa543f",
            "placeholder": "​",
            "style": "IPY_MODEL_ecb8b4c60df9473b89528d87791ed712",
            "value": " 1/1 [00:00&lt;00:00, 29.88it/s]"
          }
        },
        "071797fea25b449ca0adb4b976e10cf7": {
          "model_module": "@jupyter-widgets/base",
          "model_name": "LayoutModel",
          "model_module_version": "1.2.0",
          "state": {
            "_model_module": "@jupyter-widgets/base",
            "_model_module_version": "1.2.0",
            "_model_name": "LayoutModel",
            "_view_count": null,
            "_view_module": "@jupyter-widgets/base",
            "_view_module_version": "1.2.0",
            "_view_name": "LayoutView",
            "align_content": null,
            "align_items": null,
            "align_self": null,
            "border": null,
            "bottom": null,
            "display": null,
            "flex": null,
            "flex_flow": null,
            "grid_area": null,
            "grid_auto_columns": null,
            "grid_auto_flow": null,
            "grid_auto_rows": null,
            "grid_column": null,
            "grid_gap": null,
            "grid_row": null,
            "grid_template_areas": null,
            "grid_template_columns": null,
            "grid_template_rows": null,
            "height": null,
            "justify_content": null,
            "justify_items": null,
            "left": null,
            "margin": null,
            "max_height": null,
            "max_width": null,
            "min_height": null,
            "min_width": null,
            "object_fit": null,
            "object_position": null,
            "order": null,
            "overflow": null,
            "overflow_x": null,
            "overflow_y": null,
            "padding": null,
            "right": null,
            "top": null,
            "visibility": null,
            "width": null
          }
        },
        "2a6aac37ff2c4ee0b12106ed702add24": {
          "model_module": "@jupyter-widgets/base",
          "model_name": "LayoutModel",
          "model_module_version": "1.2.0",
          "state": {
            "_model_module": "@jupyter-widgets/base",
            "_model_module_version": "1.2.0",
            "_model_name": "LayoutModel",
            "_view_count": null,
            "_view_module": "@jupyter-widgets/base",
            "_view_module_version": "1.2.0",
            "_view_name": "LayoutView",
            "align_content": null,
            "align_items": null,
            "align_self": null,
            "border": null,
            "bottom": null,
            "display": null,
            "flex": null,
            "flex_flow": null,
            "grid_area": null,
            "grid_auto_columns": null,
            "grid_auto_flow": null,
            "grid_auto_rows": null,
            "grid_column": null,
            "grid_gap": null,
            "grid_row": null,
            "grid_template_areas": null,
            "grid_template_columns": null,
            "grid_template_rows": null,
            "height": null,
            "justify_content": null,
            "justify_items": null,
            "left": null,
            "margin": null,
            "max_height": null,
            "max_width": null,
            "min_height": null,
            "min_width": null,
            "object_fit": null,
            "object_position": null,
            "order": null,
            "overflow": null,
            "overflow_x": null,
            "overflow_y": null,
            "padding": null,
            "right": null,
            "top": null,
            "visibility": null,
            "width": null
          }
        },
        "49c3401cc8d04e9faf1e987a30d59b93": {
          "model_module": "@jupyter-widgets/controls",
          "model_name": "DescriptionStyleModel",
          "model_module_version": "1.5.0",
          "state": {
            "_model_module": "@jupyter-widgets/controls",
            "_model_module_version": "1.5.0",
            "_model_name": "DescriptionStyleModel",
            "_view_count": null,
            "_view_module": "@jupyter-widgets/base",
            "_view_module_version": "1.2.0",
            "_view_name": "StyleView",
            "description_width": ""
          }
        },
        "7cbf28e7b29b4ef99f5f3e463987073d": {
          "model_module": "@jupyter-widgets/base",
          "model_name": "LayoutModel",
          "model_module_version": "1.2.0",
          "state": {
            "_model_module": "@jupyter-widgets/base",
            "_model_module_version": "1.2.0",
            "_model_name": "LayoutModel",
            "_view_count": null,
            "_view_module": "@jupyter-widgets/base",
            "_view_module_version": "1.2.0",
            "_view_name": "LayoutView",
            "align_content": null,
            "align_items": null,
            "align_self": null,
            "border": null,
            "bottom": null,
            "display": null,
            "flex": null,
            "flex_flow": null,
            "grid_area": null,
            "grid_auto_columns": null,
            "grid_auto_flow": null,
            "grid_auto_rows": null,
            "grid_column": null,
            "grid_gap": null,
            "grid_row": null,
            "grid_template_areas": null,
            "grid_template_columns": null,
            "grid_template_rows": null,
            "height": null,
            "justify_content": null,
            "justify_items": null,
            "left": null,
            "margin": null,
            "max_height": null,
            "max_width": null,
            "min_height": null,
            "min_width": null,
            "object_fit": null,
            "object_position": null,
            "order": null,
            "overflow": null,
            "overflow_x": null,
            "overflow_y": null,
            "padding": null,
            "right": null,
            "top": null,
            "visibility": null,
            "width": null
          }
        },
        "58d7d7f6a85b429ab8132a0fd49eea37": {
          "model_module": "@jupyter-widgets/controls",
          "model_name": "ProgressStyleModel",
          "model_module_version": "1.5.0",
          "state": {
            "_model_module": "@jupyter-widgets/controls",
            "_model_module_version": "1.5.0",
            "_model_name": "ProgressStyleModel",
            "_view_count": null,
            "_view_module": "@jupyter-widgets/base",
            "_view_module_version": "1.2.0",
            "_view_name": "StyleView",
            "bar_color": null,
            "description_width": ""
          }
        },
        "f48df274cddf4429b0fe3c83bafa543f": {
          "model_module": "@jupyter-widgets/base",
          "model_name": "LayoutModel",
          "model_module_version": "1.2.0",
          "state": {
            "_model_module": "@jupyter-widgets/base",
            "_model_module_version": "1.2.0",
            "_model_name": "LayoutModel",
            "_view_count": null,
            "_view_module": "@jupyter-widgets/base",
            "_view_module_version": "1.2.0",
            "_view_name": "LayoutView",
            "align_content": null,
            "align_items": null,
            "align_self": null,
            "border": null,
            "bottom": null,
            "display": null,
            "flex": null,
            "flex_flow": null,
            "grid_area": null,
            "grid_auto_columns": null,
            "grid_auto_flow": null,
            "grid_auto_rows": null,
            "grid_column": null,
            "grid_gap": null,
            "grid_row": null,
            "grid_template_areas": null,
            "grid_template_columns": null,
            "grid_template_rows": null,
            "height": null,
            "justify_content": null,
            "justify_items": null,
            "left": null,
            "margin": null,
            "max_height": null,
            "max_width": null,
            "min_height": null,
            "min_width": null,
            "object_fit": null,
            "object_position": null,
            "order": null,
            "overflow": null,
            "overflow_x": null,
            "overflow_y": null,
            "padding": null,
            "right": null,
            "top": null,
            "visibility": null,
            "width": null
          }
        },
        "ecb8b4c60df9473b89528d87791ed712": {
          "model_module": "@jupyter-widgets/controls",
          "model_name": "DescriptionStyleModel",
          "model_module_version": "1.5.0",
          "state": {
            "_model_module": "@jupyter-widgets/controls",
            "_model_module_version": "1.5.0",
            "_model_name": "DescriptionStyleModel",
            "_view_count": null,
            "_view_module": "@jupyter-widgets/base",
            "_view_module_version": "1.2.0",
            "_view_name": "StyleView",
            "description_width": ""
          }
        },
        "815e38e7a44e470f93215aa2ac5f0ab7": {
          "model_module": "@jupyter-widgets/controls",
          "model_name": "HBoxModel",
          "model_module_version": "1.5.0",
          "state": {
            "_dom_classes": [],
            "_model_module": "@jupyter-widgets/controls",
            "_model_module_version": "1.5.0",
            "_model_name": "HBoxModel",
            "_view_count": null,
            "_view_module": "@jupyter-widgets/controls",
            "_view_module_version": "1.5.0",
            "_view_name": "HBoxView",
            "box_style": "",
            "children": [
              "IPY_MODEL_d27a723f5ac446cbb3905d3dc4490359",
              "IPY_MODEL_6a449c10a56c48f991325fedabda55ab",
              "IPY_MODEL_cc9200f7c870447dae21b41db8f08555"
            ],
            "layout": "IPY_MODEL_46d53f0cb1c743dca6a06d322d553d97"
          }
        },
        "d27a723f5ac446cbb3905d3dc4490359": {
          "model_module": "@jupyter-widgets/controls",
          "model_name": "HTMLModel",
          "model_module_version": "1.5.0",
          "state": {
            "_dom_classes": [],
            "_model_module": "@jupyter-widgets/controls",
            "_model_module_version": "1.5.0",
            "_model_name": "HTMLModel",
            "_view_count": null,
            "_view_module": "@jupyter-widgets/controls",
            "_view_module_version": "1.5.0",
            "_view_name": "HTMLView",
            "description": "",
            "description_tooltip": null,
            "layout": "IPY_MODEL_2b733091dd5442ce97beda6774989d0a",
            "placeholder": "​",
            "style": "IPY_MODEL_95798d2776464782bfdf73f6ee70ed7b",
            "value": "Extracting data files: 100%"
          }
        },
        "6a449c10a56c48f991325fedabda55ab": {
          "model_module": "@jupyter-widgets/controls",
          "model_name": "FloatProgressModel",
          "model_module_version": "1.5.0",
          "state": {
            "_dom_classes": [],
            "_model_module": "@jupyter-widgets/controls",
            "_model_module_version": "1.5.0",
            "_model_name": "FloatProgressModel",
            "_view_count": null,
            "_view_module": "@jupyter-widgets/controls",
            "_view_module_version": "1.5.0",
            "_view_name": "ProgressView",
            "bar_style": "success",
            "description": "",
            "description_tooltip": null,
            "layout": "IPY_MODEL_3e6d2d4c28424c069ebbe3295ede711f",
            "max": 1,
            "min": 0,
            "orientation": "horizontal",
            "style": "IPY_MODEL_4408f2a862a445c5bebbf6167dca3135",
            "value": 1
          }
        },
        "cc9200f7c870447dae21b41db8f08555": {
          "model_module": "@jupyter-widgets/controls",
          "model_name": "HTMLModel",
          "model_module_version": "1.5.0",
          "state": {
            "_dom_classes": [],
            "_model_module": "@jupyter-widgets/controls",
            "_model_module_version": "1.5.0",
            "_model_name": "HTMLModel",
            "_view_count": null,
            "_view_module": "@jupyter-widgets/controls",
            "_view_module_version": "1.5.0",
            "_view_name": "HTMLView",
            "description": "",
            "description_tooltip": null,
            "layout": "IPY_MODEL_661b9db5d6a44858968c34bcafea320b",
            "placeholder": "​",
            "style": "IPY_MODEL_0b28441ef3ab46f29b6a7f9c9c4e54aa",
            "value": " 1/1 [00:01&lt;00:00,  1.37s/it]"
          }
        },
        "46d53f0cb1c743dca6a06d322d553d97": {
          "model_module": "@jupyter-widgets/base",
          "model_name": "LayoutModel",
          "model_module_version": "1.2.0",
          "state": {
            "_model_module": "@jupyter-widgets/base",
            "_model_module_version": "1.2.0",
            "_model_name": "LayoutModel",
            "_view_count": null,
            "_view_module": "@jupyter-widgets/base",
            "_view_module_version": "1.2.0",
            "_view_name": "LayoutView",
            "align_content": null,
            "align_items": null,
            "align_self": null,
            "border": null,
            "bottom": null,
            "display": null,
            "flex": null,
            "flex_flow": null,
            "grid_area": null,
            "grid_auto_columns": null,
            "grid_auto_flow": null,
            "grid_auto_rows": null,
            "grid_column": null,
            "grid_gap": null,
            "grid_row": null,
            "grid_template_areas": null,
            "grid_template_columns": null,
            "grid_template_rows": null,
            "height": null,
            "justify_content": null,
            "justify_items": null,
            "left": null,
            "margin": null,
            "max_height": null,
            "max_width": null,
            "min_height": null,
            "min_width": null,
            "object_fit": null,
            "object_position": null,
            "order": null,
            "overflow": null,
            "overflow_x": null,
            "overflow_y": null,
            "padding": null,
            "right": null,
            "top": null,
            "visibility": null,
            "width": null
          }
        },
        "2b733091dd5442ce97beda6774989d0a": {
          "model_module": "@jupyter-widgets/base",
          "model_name": "LayoutModel",
          "model_module_version": "1.2.0",
          "state": {
            "_model_module": "@jupyter-widgets/base",
            "_model_module_version": "1.2.0",
            "_model_name": "LayoutModel",
            "_view_count": null,
            "_view_module": "@jupyter-widgets/base",
            "_view_module_version": "1.2.0",
            "_view_name": "LayoutView",
            "align_content": null,
            "align_items": null,
            "align_self": null,
            "border": null,
            "bottom": null,
            "display": null,
            "flex": null,
            "flex_flow": null,
            "grid_area": null,
            "grid_auto_columns": null,
            "grid_auto_flow": null,
            "grid_auto_rows": null,
            "grid_column": null,
            "grid_gap": null,
            "grid_row": null,
            "grid_template_areas": null,
            "grid_template_columns": null,
            "grid_template_rows": null,
            "height": null,
            "justify_content": null,
            "justify_items": null,
            "left": null,
            "margin": null,
            "max_height": null,
            "max_width": null,
            "min_height": null,
            "min_width": null,
            "object_fit": null,
            "object_position": null,
            "order": null,
            "overflow": null,
            "overflow_x": null,
            "overflow_y": null,
            "padding": null,
            "right": null,
            "top": null,
            "visibility": null,
            "width": null
          }
        },
        "95798d2776464782bfdf73f6ee70ed7b": {
          "model_module": "@jupyter-widgets/controls",
          "model_name": "DescriptionStyleModel",
          "model_module_version": "1.5.0",
          "state": {
            "_model_module": "@jupyter-widgets/controls",
            "_model_module_version": "1.5.0",
            "_model_name": "DescriptionStyleModel",
            "_view_count": null,
            "_view_module": "@jupyter-widgets/base",
            "_view_module_version": "1.2.0",
            "_view_name": "StyleView",
            "description_width": ""
          }
        },
        "3e6d2d4c28424c069ebbe3295ede711f": {
          "model_module": "@jupyter-widgets/base",
          "model_name": "LayoutModel",
          "model_module_version": "1.2.0",
          "state": {
            "_model_module": "@jupyter-widgets/base",
            "_model_module_version": "1.2.0",
            "_model_name": "LayoutModel",
            "_view_count": null,
            "_view_module": "@jupyter-widgets/base",
            "_view_module_version": "1.2.0",
            "_view_name": "LayoutView",
            "align_content": null,
            "align_items": null,
            "align_self": null,
            "border": null,
            "bottom": null,
            "display": null,
            "flex": null,
            "flex_flow": null,
            "grid_area": null,
            "grid_auto_columns": null,
            "grid_auto_flow": null,
            "grid_auto_rows": null,
            "grid_column": null,
            "grid_gap": null,
            "grid_row": null,
            "grid_template_areas": null,
            "grid_template_columns": null,
            "grid_template_rows": null,
            "height": null,
            "justify_content": null,
            "justify_items": null,
            "left": null,
            "margin": null,
            "max_height": null,
            "max_width": null,
            "min_height": null,
            "min_width": null,
            "object_fit": null,
            "object_position": null,
            "order": null,
            "overflow": null,
            "overflow_x": null,
            "overflow_y": null,
            "padding": null,
            "right": null,
            "top": null,
            "visibility": null,
            "width": null
          }
        },
        "4408f2a862a445c5bebbf6167dca3135": {
          "model_module": "@jupyter-widgets/controls",
          "model_name": "ProgressStyleModel",
          "model_module_version": "1.5.0",
          "state": {
            "_model_module": "@jupyter-widgets/controls",
            "_model_module_version": "1.5.0",
            "_model_name": "ProgressStyleModel",
            "_view_count": null,
            "_view_module": "@jupyter-widgets/base",
            "_view_module_version": "1.2.0",
            "_view_name": "StyleView",
            "bar_color": null,
            "description_width": ""
          }
        },
        "661b9db5d6a44858968c34bcafea320b": {
          "model_module": "@jupyter-widgets/base",
          "model_name": "LayoutModel",
          "model_module_version": "1.2.0",
          "state": {
            "_model_module": "@jupyter-widgets/base",
            "_model_module_version": "1.2.0",
            "_model_name": "LayoutModel",
            "_view_count": null,
            "_view_module": "@jupyter-widgets/base",
            "_view_module_version": "1.2.0",
            "_view_name": "LayoutView",
            "align_content": null,
            "align_items": null,
            "align_self": null,
            "border": null,
            "bottom": null,
            "display": null,
            "flex": null,
            "flex_flow": null,
            "grid_area": null,
            "grid_auto_columns": null,
            "grid_auto_flow": null,
            "grid_auto_rows": null,
            "grid_column": null,
            "grid_gap": null,
            "grid_row": null,
            "grid_template_areas": null,
            "grid_template_columns": null,
            "grid_template_rows": null,
            "height": null,
            "justify_content": null,
            "justify_items": null,
            "left": null,
            "margin": null,
            "max_height": null,
            "max_width": null,
            "min_height": null,
            "min_width": null,
            "object_fit": null,
            "object_position": null,
            "order": null,
            "overflow": null,
            "overflow_x": null,
            "overflow_y": null,
            "padding": null,
            "right": null,
            "top": null,
            "visibility": null,
            "width": null
          }
        },
        "0b28441ef3ab46f29b6a7f9c9c4e54aa": {
          "model_module": "@jupyter-widgets/controls",
          "model_name": "DescriptionStyleModel",
          "model_module_version": "1.5.0",
          "state": {
            "_model_module": "@jupyter-widgets/controls",
            "_model_module_version": "1.5.0",
            "_model_name": "DescriptionStyleModel",
            "_view_count": null,
            "_view_module": "@jupyter-widgets/base",
            "_view_module_version": "1.2.0",
            "_view_name": "StyleView",
            "description_width": ""
          }
        },
        "2cdf7c7df6d64334895ac7ce59596b9f": {
          "model_module": "@jupyter-widgets/controls",
          "model_name": "HBoxModel",
          "model_module_version": "1.5.0",
          "state": {
            "_dom_classes": [],
            "_model_module": "@jupyter-widgets/controls",
            "_model_module_version": "1.5.0",
            "_model_name": "HBoxModel",
            "_view_count": null,
            "_view_module": "@jupyter-widgets/controls",
            "_view_module_version": "1.5.0",
            "_view_name": "HBoxView",
            "box_style": "",
            "children": [
              "IPY_MODEL_630536bb2a2440c3bd39ae3926c0f819",
              "IPY_MODEL_429d9710cdd745d2864ad79597b6600d",
              "IPY_MODEL_08922a229bce425590b6724d62b23781"
            ],
            "layout": "IPY_MODEL_36d6e05f051e4ae3937c95bd79b9af1d"
          }
        },
        "630536bb2a2440c3bd39ae3926c0f819": {
          "model_module": "@jupyter-widgets/controls",
          "model_name": "HTMLModel",
          "model_module_version": "1.5.0",
          "state": {
            "_dom_classes": [],
            "_model_module": "@jupyter-widgets/controls",
            "_model_module_version": "1.5.0",
            "_model_name": "HTMLModel",
            "_view_count": null,
            "_view_module": "@jupyter-widgets/controls",
            "_view_module_version": "1.5.0",
            "_view_name": "HTMLView",
            "description": "",
            "description_tooltip": null,
            "layout": "IPY_MODEL_5acee63aeba8457f9976392021d48185",
            "placeholder": "​",
            "style": "IPY_MODEL_b087f8f6b57c4a6cb1b2cb5fab140c12",
            "value": "Generating train split: "
          }
        },
        "429d9710cdd745d2864ad79597b6600d": {
          "model_module": "@jupyter-widgets/controls",
          "model_name": "FloatProgressModel",
          "model_module_version": "1.5.0",
          "state": {
            "_dom_classes": [],
            "_model_module": "@jupyter-widgets/controls",
            "_model_module_version": "1.5.0",
            "_model_name": "FloatProgressModel",
            "_view_count": null,
            "_view_module": "@jupyter-widgets/controls",
            "_view_module_version": "1.5.0",
            "_view_name": "ProgressView",
            "bar_style": "success",
            "description": "",
            "description_tooltip": null,
            "layout": "IPY_MODEL_75dec7bf7ae3434091db8530d760204a",
            "max": 1,
            "min": 0,
            "orientation": "horizontal",
            "style": "IPY_MODEL_cfde118b95d84ce0b913c7a3545bff3a",
            "value": 1
          }
        },
        "08922a229bce425590b6724d62b23781": {
          "model_module": "@jupyter-widgets/controls",
          "model_name": "HTMLModel",
          "model_module_version": "1.5.0",
          "state": {
            "_dom_classes": [],
            "_model_module": "@jupyter-widgets/controls",
            "_model_module_version": "1.5.0",
            "_model_name": "HTMLModel",
            "_view_count": null,
            "_view_module": "@jupyter-widgets/controls",
            "_view_module_version": "1.5.0",
            "_view_name": "HTMLView",
            "description": "",
            "description_tooltip": null,
            "layout": "IPY_MODEL_4d78a9df30b2463782128d5b366eab09",
            "placeholder": "​",
            "style": "IPY_MODEL_2f0e555ce1214e8ebe56711bf11f023a",
            "value": " 272600/0 [00:01&lt;00:00, 234161.41 examples/s]"
          }
        },
        "36d6e05f051e4ae3937c95bd79b9af1d": {
          "model_module": "@jupyter-widgets/base",
          "model_name": "LayoutModel",
          "model_module_version": "1.2.0",
          "state": {
            "_model_module": "@jupyter-widgets/base",
            "_model_module_version": "1.2.0",
            "_model_name": "LayoutModel",
            "_view_count": null,
            "_view_module": "@jupyter-widgets/base",
            "_view_module_version": "1.2.0",
            "_view_name": "LayoutView",
            "align_content": null,
            "align_items": null,
            "align_self": null,
            "border": null,
            "bottom": null,
            "display": null,
            "flex": null,
            "flex_flow": null,
            "grid_area": null,
            "grid_auto_columns": null,
            "grid_auto_flow": null,
            "grid_auto_rows": null,
            "grid_column": null,
            "grid_gap": null,
            "grid_row": null,
            "grid_template_areas": null,
            "grid_template_columns": null,
            "grid_template_rows": null,
            "height": null,
            "justify_content": null,
            "justify_items": null,
            "left": null,
            "margin": null,
            "max_height": null,
            "max_width": null,
            "min_height": null,
            "min_width": null,
            "object_fit": null,
            "object_position": null,
            "order": null,
            "overflow": null,
            "overflow_x": null,
            "overflow_y": null,
            "padding": null,
            "right": null,
            "top": null,
            "visibility": null,
            "width": null
          }
        },
        "5acee63aeba8457f9976392021d48185": {
          "model_module": "@jupyter-widgets/base",
          "model_name": "LayoutModel",
          "model_module_version": "1.2.0",
          "state": {
            "_model_module": "@jupyter-widgets/base",
            "_model_module_version": "1.2.0",
            "_model_name": "LayoutModel",
            "_view_count": null,
            "_view_module": "@jupyter-widgets/base",
            "_view_module_version": "1.2.0",
            "_view_name": "LayoutView",
            "align_content": null,
            "align_items": null,
            "align_self": null,
            "border": null,
            "bottom": null,
            "display": null,
            "flex": null,
            "flex_flow": null,
            "grid_area": null,
            "grid_auto_columns": null,
            "grid_auto_flow": null,
            "grid_auto_rows": null,
            "grid_column": null,
            "grid_gap": null,
            "grid_row": null,
            "grid_template_areas": null,
            "grid_template_columns": null,
            "grid_template_rows": null,
            "height": null,
            "justify_content": null,
            "justify_items": null,
            "left": null,
            "margin": null,
            "max_height": null,
            "max_width": null,
            "min_height": null,
            "min_width": null,
            "object_fit": null,
            "object_position": null,
            "order": null,
            "overflow": null,
            "overflow_x": null,
            "overflow_y": null,
            "padding": null,
            "right": null,
            "top": null,
            "visibility": null,
            "width": null
          }
        },
        "b087f8f6b57c4a6cb1b2cb5fab140c12": {
          "model_module": "@jupyter-widgets/controls",
          "model_name": "DescriptionStyleModel",
          "model_module_version": "1.5.0",
          "state": {
            "_model_module": "@jupyter-widgets/controls",
            "_model_module_version": "1.5.0",
            "_model_name": "DescriptionStyleModel",
            "_view_count": null,
            "_view_module": "@jupyter-widgets/base",
            "_view_module_version": "1.2.0",
            "_view_name": "StyleView",
            "description_width": ""
          }
        },
        "75dec7bf7ae3434091db8530d760204a": {
          "model_module": "@jupyter-widgets/base",
          "model_name": "LayoutModel",
          "model_module_version": "1.2.0",
          "state": {
            "_model_module": "@jupyter-widgets/base",
            "_model_module_version": "1.2.0",
            "_model_name": "LayoutModel",
            "_view_count": null,
            "_view_module": "@jupyter-widgets/base",
            "_view_module_version": "1.2.0",
            "_view_name": "LayoutView",
            "align_content": null,
            "align_items": null,
            "align_self": null,
            "border": null,
            "bottom": null,
            "display": null,
            "flex": null,
            "flex_flow": null,
            "grid_area": null,
            "grid_auto_columns": null,
            "grid_auto_flow": null,
            "grid_auto_rows": null,
            "grid_column": null,
            "grid_gap": null,
            "grid_row": null,
            "grid_template_areas": null,
            "grid_template_columns": null,
            "grid_template_rows": null,
            "height": null,
            "justify_content": null,
            "justify_items": null,
            "left": null,
            "margin": null,
            "max_height": null,
            "max_width": null,
            "min_height": null,
            "min_width": null,
            "object_fit": null,
            "object_position": null,
            "order": null,
            "overflow": null,
            "overflow_x": null,
            "overflow_y": null,
            "padding": null,
            "right": null,
            "top": null,
            "visibility": null,
            "width": "20px"
          }
        },
        "cfde118b95d84ce0b913c7a3545bff3a": {
          "model_module": "@jupyter-widgets/controls",
          "model_name": "ProgressStyleModel",
          "model_module_version": "1.5.0",
          "state": {
            "_model_module": "@jupyter-widgets/controls",
            "_model_module_version": "1.5.0",
            "_model_name": "ProgressStyleModel",
            "_view_count": null,
            "_view_module": "@jupyter-widgets/base",
            "_view_module_version": "1.2.0",
            "_view_name": "StyleView",
            "bar_color": null,
            "description_width": ""
          }
        },
        "4d78a9df30b2463782128d5b366eab09": {
          "model_module": "@jupyter-widgets/base",
          "model_name": "LayoutModel",
          "model_module_version": "1.2.0",
          "state": {
            "_model_module": "@jupyter-widgets/base",
            "_model_module_version": "1.2.0",
            "_model_name": "LayoutModel",
            "_view_count": null,
            "_view_module": "@jupyter-widgets/base",
            "_view_module_version": "1.2.0",
            "_view_name": "LayoutView",
            "align_content": null,
            "align_items": null,
            "align_self": null,
            "border": null,
            "bottom": null,
            "display": null,
            "flex": null,
            "flex_flow": null,
            "grid_area": null,
            "grid_auto_columns": null,
            "grid_auto_flow": null,
            "grid_auto_rows": null,
            "grid_column": null,
            "grid_gap": null,
            "grid_row": null,
            "grid_template_areas": null,
            "grid_template_columns": null,
            "grid_template_rows": null,
            "height": null,
            "justify_content": null,
            "justify_items": null,
            "left": null,
            "margin": null,
            "max_height": null,
            "max_width": null,
            "min_height": null,
            "min_width": null,
            "object_fit": null,
            "object_position": null,
            "order": null,
            "overflow": null,
            "overflow_x": null,
            "overflow_y": null,
            "padding": null,
            "right": null,
            "top": null,
            "visibility": null,
            "width": null
          }
        },
        "2f0e555ce1214e8ebe56711bf11f023a": {
          "model_module": "@jupyter-widgets/controls",
          "model_name": "DescriptionStyleModel",
          "model_module_version": "1.5.0",
          "state": {
            "_model_module": "@jupyter-widgets/controls",
            "_model_module_version": "1.5.0",
            "_model_name": "DescriptionStyleModel",
            "_view_count": null,
            "_view_module": "@jupyter-widgets/base",
            "_view_module_version": "1.2.0",
            "_view_name": "StyleView",
            "description_width": ""
          }
        },
        "41fb96c802984facae110559e66b47ec": {
          "model_module": "@jupyter-widgets/controls",
          "model_name": "HBoxModel",
          "model_module_version": "1.5.0",
          "state": {
            "_dom_classes": [],
            "_model_module": "@jupyter-widgets/controls",
            "_model_module_version": "1.5.0",
            "_model_name": "HBoxModel",
            "_view_count": null,
            "_view_module": "@jupyter-widgets/controls",
            "_view_module_version": "1.5.0",
            "_view_name": "HBoxView",
            "box_style": "",
            "children": [
              "IPY_MODEL_006489030e1b4be79d9f55edcda06687",
              "IPY_MODEL_3b3d04243e8248d98f933e01cfbc006d",
              "IPY_MODEL_0d30a346d2ed46978e7a6871fcbf0f82"
            ],
            "layout": "IPY_MODEL_ad6f3687a8dc4272ac3bfefc347a8843"
          }
        },
        "006489030e1b4be79d9f55edcda06687": {
          "model_module": "@jupyter-widgets/controls",
          "model_name": "HTMLModel",
          "model_module_version": "1.5.0",
          "state": {
            "_dom_classes": [],
            "_model_module": "@jupyter-widgets/controls",
            "_model_module_version": "1.5.0",
            "_model_name": "HTMLModel",
            "_view_count": null,
            "_view_module": "@jupyter-widgets/controls",
            "_view_module_version": "1.5.0",
            "_view_name": "HTMLView",
            "description": "",
            "description_tooltip": null,
            "layout": "IPY_MODEL_5fd3548d60c0467eb29916b5b7d6c2ec",
            "placeholder": "​",
            "style": "IPY_MODEL_fce4229239f9437cbcc675900c5eb691",
            "value": "Downloading data files: 100%"
          }
        },
        "3b3d04243e8248d98f933e01cfbc006d": {
          "model_module": "@jupyter-widgets/controls",
          "model_name": "FloatProgressModel",
          "model_module_version": "1.5.0",
          "state": {
            "_dom_classes": [],
            "_model_module": "@jupyter-widgets/controls",
            "_model_module_version": "1.5.0",
            "_model_name": "FloatProgressModel",
            "_view_count": null,
            "_view_module": "@jupyter-widgets/controls",
            "_view_module_version": "1.5.0",
            "_view_name": "ProgressView",
            "bar_style": "success",
            "description": "",
            "description_tooltip": null,
            "layout": "IPY_MODEL_910e8b75f47d4ac4995545a887bf3482",
            "max": 1,
            "min": 0,
            "orientation": "horizontal",
            "style": "IPY_MODEL_56405af839224b66bdba0b4ae8ef91d3",
            "value": 1
          }
        },
        "0d30a346d2ed46978e7a6871fcbf0f82": {
          "model_module": "@jupyter-widgets/controls",
          "model_name": "HTMLModel",
          "model_module_version": "1.5.0",
          "state": {
            "_dom_classes": [],
            "_model_module": "@jupyter-widgets/controls",
            "_model_module_version": "1.5.0",
            "_model_name": "HTMLModel",
            "_view_count": null,
            "_view_module": "@jupyter-widgets/controls",
            "_view_module_version": "1.5.0",
            "_view_name": "HTMLView",
            "description": "",
            "description_tooltip": null,
            "layout": "IPY_MODEL_32c390307e484c6e8d02d9ec6687b6d3",
            "placeholder": "​",
            "style": "IPY_MODEL_41f3e987f22e4e54b1735684d7dab2e6",
            "value": " 1/1 [00:00&lt;00:00, 32.69it/s]"
          }
        },
        "ad6f3687a8dc4272ac3bfefc347a8843": {
          "model_module": "@jupyter-widgets/base",
          "model_name": "LayoutModel",
          "model_module_version": "1.2.0",
          "state": {
            "_model_module": "@jupyter-widgets/base",
            "_model_module_version": "1.2.0",
            "_model_name": "LayoutModel",
            "_view_count": null,
            "_view_module": "@jupyter-widgets/base",
            "_view_module_version": "1.2.0",
            "_view_name": "LayoutView",
            "align_content": null,
            "align_items": null,
            "align_self": null,
            "border": null,
            "bottom": null,
            "display": null,
            "flex": null,
            "flex_flow": null,
            "grid_area": null,
            "grid_auto_columns": null,
            "grid_auto_flow": null,
            "grid_auto_rows": null,
            "grid_column": null,
            "grid_gap": null,
            "grid_row": null,
            "grid_template_areas": null,
            "grid_template_columns": null,
            "grid_template_rows": null,
            "height": null,
            "justify_content": null,
            "justify_items": null,
            "left": null,
            "margin": null,
            "max_height": null,
            "max_width": null,
            "min_height": null,
            "min_width": null,
            "object_fit": null,
            "object_position": null,
            "order": null,
            "overflow": null,
            "overflow_x": null,
            "overflow_y": null,
            "padding": null,
            "right": null,
            "top": null,
            "visibility": null,
            "width": null
          }
        },
        "5fd3548d60c0467eb29916b5b7d6c2ec": {
          "model_module": "@jupyter-widgets/base",
          "model_name": "LayoutModel",
          "model_module_version": "1.2.0",
          "state": {
            "_model_module": "@jupyter-widgets/base",
            "_model_module_version": "1.2.0",
            "_model_name": "LayoutModel",
            "_view_count": null,
            "_view_module": "@jupyter-widgets/base",
            "_view_module_version": "1.2.0",
            "_view_name": "LayoutView",
            "align_content": null,
            "align_items": null,
            "align_self": null,
            "border": null,
            "bottom": null,
            "display": null,
            "flex": null,
            "flex_flow": null,
            "grid_area": null,
            "grid_auto_columns": null,
            "grid_auto_flow": null,
            "grid_auto_rows": null,
            "grid_column": null,
            "grid_gap": null,
            "grid_row": null,
            "grid_template_areas": null,
            "grid_template_columns": null,
            "grid_template_rows": null,
            "height": null,
            "justify_content": null,
            "justify_items": null,
            "left": null,
            "margin": null,
            "max_height": null,
            "max_width": null,
            "min_height": null,
            "min_width": null,
            "object_fit": null,
            "object_position": null,
            "order": null,
            "overflow": null,
            "overflow_x": null,
            "overflow_y": null,
            "padding": null,
            "right": null,
            "top": null,
            "visibility": null,
            "width": null
          }
        },
        "fce4229239f9437cbcc675900c5eb691": {
          "model_module": "@jupyter-widgets/controls",
          "model_name": "DescriptionStyleModel",
          "model_module_version": "1.5.0",
          "state": {
            "_model_module": "@jupyter-widgets/controls",
            "_model_module_version": "1.5.0",
            "_model_name": "DescriptionStyleModel",
            "_view_count": null,
            "_view_module": "@jupyter-widgets/base",
            "_view_module_version": "1.2.0",
            "_view_name": "StyleView",
            "description_width": ""
          }
        },
        "910e8b75f47d4ac4995545a887bf3482": {
          "model_module": "@jupyter-widgets/base",
          "model_name": "LayoutModel",
          "model_module_version": "1.2.0",
          "state": {
            "_model_module": "@jupyter-widgets/base",
            "_model_module_version": "1.2.0",
            "_model_name": "LayoutModel",
            "_view_count": null,
            "_view_module": "@jupyter-widgets/base",
            "_view_module_version": "1.2.0",
            "_view_name": "LayoutView",
            "align_content": null,
            "align_items": null,
            "align_self": null,
            "border": null,
            "bottom": null,
            "display": null,
            "flex": null,
            "flex_flow": null,
            "grid_area": null,
            "grid_auto_columns": null,
            "grid_auto_flow": null,
            "grid_auto_rows": null,
            "grid_column": null,
            "grid_gap": null,
            "grid_row": null,
            "grid_template_areas": null,
            "grid_template_columns": null,
            "grid_template_rows": null,
            "height": null,
            "justify_content": null,
            "justify_items": null,
            "left": null,
            "margin": null,
            "max_height": null,
            "max_width": null,
            "min_height": null,
            "min_width": null,
            "object_fit": null,
            "object_position": null,
            "order": null,
            "overflow": null,
            "overflow_x": null,
            "overflow_y": null,
            "padding": null,
            "right": null,
            "top": null,
            "visibility": null,
            "width": null
          }
        },
        "56405af839224b66bdba0b4ae8ef91d3": {
          "model_module": "@jupyter-widgets/controls",
          "model_name": "ProgressStyleModel",
          "model_module_version": "1.5.0",
          "state": {
            "_model_module": "@jupyter-widgets/controls",
            "_model_module_version": "1.5.0",
            "_model_name": "ProgressStyleModel",
            "_view_count": null,
            "_view_module": "@jupyter-widgets/base",
            "_view_module_version": "1.2.0",
            "_view_name": "StyleView",
            "bar_color": null,
            "description_width": ""
          }
        },
        "32c390307e484c6e8d02d9ec6687b6d3": {
          "model_module": "@jupyter-widgets/base",
          "model_name": "LayoutModel",
          "model_module_version": "1.2.0",
          "state": {
            "_model_module": "@jupyter-widgets/base",
            "_model_module_version": "1.2.0",
            "_model_name": "LayoutModel",
            "_view_count": null,
            "_view_module": "@jupyter-widgets/base",
            "_view_module_version": "1.2.0",
            "_view_name": "LayoutView",
            "align_content": null,
            "align_items": null,
            "align_self": null,
            "border": null,
            "bottom": null,
            "display": null,
            "flex": null,
            "flex_flow": null,
            "grid_area": null,
            "grid_auto_columns": null,
            "grid_auto_flow": null,
            "grid_auto_rows": null,
            "grid_column": null,
            "grid_gap": null,
            "grid_row": null,
            "grid_template_areas": null,
            "grid_template_columns": null,
            "grid_template_rows": null,
            "height": null,
            "justify_content": null,
            "justify_items": null,
            "left": null,
            "margin": null,
            "max_height": null,
            "max_width": null,
            "min_height": null,
            "min_width": null,
            "object_fit": null,
            "object_position": null,
            "order": null,
            "overflow": null,
            "overflow_x": null,
            "overflow_y": null,
            "padding": null,
            "right": null,
            "top": null,
            "visibility": null,
            "width": null
          }
        },
        "41f3e987f22e4e54b1735684d7dab2e6": {
          "model_module": "@jupyter-widgets/controls",
          "model_name": "DescriptionStyleModel",
          "model_module_version": "1.5.0",
          "state": {
            "_model_module": "@jupyter-widgets/controls",
            "_model_module_version": "1.5.0",
            "_model_name": "DescriptionStyleModel",
            "_view_count": null,
            "_view_module": "@jupyter-widgets/base",
            "_view_module_version": "1.2.0",
            "_view_name": "StyleView",
            "description_width": ""
          }
        },
        "88aa94b8d719406db19f3ea8c59abd06": {
          "model_module": "@jupyter-widgets/controls",
          "model_name": "HBoxModel",
          "model_module_version": "1.5.0",
          "state": {
            "_dom_classes": [],
            "_model_module": "@jupyter-widgets/controls",
            "_model_module_version": "1.5.0",
            "_model_name": "HBoxModel",
            "_view_count": null,
            "_view_module": "@jupyter-widgets/controls",
            "_view_module_version": "1.5.0",
            "_view_name": "HBoxView",
            "box_style": "",
            "children": [
              "IPY_MODEL_099f93a0746b4f10aa11eb9476929a22",
              "IPY_MODEL_08a2bb0896014f2eb0240d44c5b4ffbc",
              "IPY_MODEL_c591789304074290811db7788a149fdb"
            ],
            "layout": "IPY_MODEL_1d88fa97e6134e859f2af96fa88e005c"
          }
        },
        "099f93a0746b4f10aa11eb9476929a22": {
          "model_module": "@jupyter-widgets/controls",
          "model_name": "HTMLModel",
          "model_module_version": "1.5.0",
          "state": {
            "_dom_classes": [],
            "_model_module": "@jupyter-widgets/controls",
            "_model_module_version": "1.5.0",
            "_model_name": "HTMLModel",
            "_view_count": null,
            "_view_module": "@jupyter-widgets/controls",
            "_view_module_version": "1.5.0",
            "_view_name": "HTMLView",
            "description": "",
            "description_tooltip": null,
            "layout": "IPY_MODEL_981a2122d71f4b4c903c38574bb4092a",
            "placeholder": "​",
            "style": "IPY_MODEL_f072a97043f74d2f850f5fd8b18a8a91",
            "value": "Extracting data files: 100%"
          }
        },
        "08a2bb0896014f2eb0240d44c5b4ffbc": {
          "model_module": "@jupyter-widgets/controls",
          "model_name": "FloatProgressModel",
          "model_module_version": "1.5.0",
          "state": {
            "_dom_classes": [],
            "_model_module": "@jupyter-widgets/controls",
            "_model_module_version": "1.5.0",
            "_model_name": "FloatProgressModel",
            "_view_count": null,
            "_view_module": "@jupyter-widgets/controls",
            "_view_module_version": "1.5.0",
            "_view_name": "ProgressView",
            "bar_style": "success",
            "description": "",
            "description_tooltip": null,
            "layout": "IPY_MODEL_94b9a8bc1d714761a6b7738094a3bdb5",
            "max": 1,
            "min": 0,
            "orientation": "horizontal",
            "style": "IPY_MODEL_978e1cdda4a04ef0852ac664f3717209",
            "value": 1
          }
        },
        "c591789304074290811db7788a149fdb": {
          "model_module": "@jupyter-widgets/controls",
          "model_name": "HTMLModel",
          "model_module_version": "1.5.0",
          "state": {
            "_dom_classes": [],
            "_model_module": "@jupyter-widgets/controls",
            "_model_module_version": "1.5.0",
            "_model_name": "HTMLModel",
            "_view_count": null,
            "_view_module": "@jupyter-widgets/controls",
            "_view_module_version": "1.5.0",
            "_view_name": "HTMLView",
            "description": "",
            "description_tooltip": null,
            "layout": "IPY_MODEL_7068ad4e5e7344dca213aa5cf65d6fbd",
            "placeholder": "​",
            "style": "IPY_MODEL_0674df221b2147a4a2f500d515bc820f",
            "value": " 1/1 [00:01&lt;00:00,  1.41s/it]"
          }
        },
        "1d88fa97e6134e859f2af96fa88e005c": {
          "model_module": "@jupyter-widgets/base",
          "model_name": "LayoutModel",
          "model_module_version": "1.2.0",
          "state": {
            "_model_module": "@jupyter-widgets/base",
            "_model_module_version": "1.2.0",
            "_model_name": "LayoutModel",
            "_view_count": null,
            "_view_module": "@jupyter-widgets/base",
            "_view_module_version": "1.2.0",
            "_view_name": "LayoutView",
            "align_content": null,
            "align_items": null,
            "align_self": null,
            "border": null,
            "bottom": null,
            "display": null,
            "flex": null,
            "flex_flow": null,
            "grid_area": null,
            "grid_auto_columns": null,
            "grid_auto_flow": null,
            "grid_auto_rows": null,
            "grid_column": null,
            "grid_gap": null,
            "grid_row": null,
            "grid_template_areas": null,
            "grid_template_columns": null,
            "grid_template_rows": null,
            "height": null,
            "justify_content": null,
            "justify_items": null,
            "left": null,
            "margin": null,
            "max_height": null,
            "max_width": null,
            "min_height": null,
            "min_width": null,
            "object_fit": null,
            "object_position": null,
            "order": null,
            "overflow": null,
            "overflow_x": null,
            "overflow_y": null,
            "padding": null,
            "right": null,
            "top": null,
            "visibility": null,
            "width": null
          }
        },
        "981a2122d71f4b4c903c38574bb4092a": {
          "model_module": "@jupyter-widgets/base",
          "model_name": "LayoutModel",
          "model_module_version": "1.2.0",
          "state": {
            "_model_module": "@jupyter-widgets/base",
            "_model_module_version": "1.2.0",
            "_model_name": "LayoutModel",
            "_view_count": null,
            "_view_module": "@jupyter-widgets/base",
            "_view_module_version": "1.2.0",
            "_view_name": "LayoutView",
            "align_content": null,
            "align_items": null,
            "align_self": null,
            "border": null,
            "bottom": null,
            "display": null,
            "flex": null,
            "flex_flow": null,
            "grid_area": null,
            "grid_auto_columns": null,
            "grid_auto_flow": null,
            "grid_auto_rows": null,
            "grid_column": null,
            "grid_gap": null,
            "grid_row": null,
            "grid_template_areas": null,
            "grid_template_columns": null,
            "grid_template_rows": null,
            "height": null,
            "justify_content": null,
            "justify_items": null,
            "left": null,
            "margin": null,
            "max_height": null,
            "max_width": null,
            "min_height": null,
            "min_width": null,
            "object_fit": null,
            "object_position": null,
            "order": null,
            "overflow": null,
            "overflow_x": null,
            "overflow_y": null,
            "padding": null,
            "right": null,
            "top": null,
            "visibility": null,
            "width": null
          }
        },
        "f072a97043f74d2f850f5fd8b18a8a91": {
          "model_module": "@jupyter-widgets/controls",
          "model_name": "DescriptionStyleModel",
          "model_module_version": "1.5.0",
          "state": {
            "_model_module": "@jupyter-widgets/controls",
            "_model_module_version": "1.5.0",
            "_model_name": "DescriptionStyleModel",
            "_view_count": null,
            "_view_module": "@jupyter-widgets/base",
            "_view_module_version": "1.2.0",
            "_view_name": "StyleView",
            "description_width": ""
          }
        },
        "94b9a8bc1d714761a6b7738094a3bdb5": {
          "model_module": "@jupyter-widgets/base",
          "model_name": "LayoutModel",
          "model_module_version": "1.2.0",
          "state": {
            "_model_module": "@jupyter-widgets/base",
            "_model_module_version": "1.2.0",
            "_model_name": "LayoutModel",
            "_view_count": null,
            "_view_module": "@jupyter-widgets/base",
            "_view_module_version": "1.2.0",
            "_view_name": "LayoutView",
            "align_content": null,
            "align_items": null,
            "align_self": null,
            "border": null,
            "bottom": null,
            "display": null,
            "flex": null,
            "flex_flow": null,
            "grid_area": null,
            "grid_auto_columns": null,
            "grid_auto_flow": null,
            "grid_auto_rows": null,
            "grid_column": null,
            "grid_gap": null,
            "grid_row": null,
            "grid_template_areas": null,
            "grid_template_columns": null,
            "grid_template_rows": null,
            "height": null,
            "justify_content": null,
            "justify_items": null,
            "left": null,
            "margin": null,
            "max_height": null,
            "max_width": null,
            "min_height": null,
            "min_width": null,
            "object_fit": null,
            "object_position": null,
            "order": null,
            "overflow": null,
            "overflow_x": null,
            "overflow_y": null,
            "padding": null,
            "right": null,
            "top": null,
            "visibility": null,
            "width": null
          }
        },
        "978e1cdda4a04ef0852ac664f3717209": {
          "model_module": "@jupyter-widgets/controls",
          "model_name": "ProgressStyleModel",
          "model_module_version": "1.5.0",
          "state": {
            "_model_module": "@jupyter-widgets/controls",
            "_model_module_version": "1.5.0",
            "_model_name": "ProgressStyleModel",
            "_view_count": null,
            "_view_module": "@jupyter-widgets/base",
            "_view_module_version": "1.2.0",
            "_view_name": "StyleView",
            "bar_color": null,
            "description_width": ""
          }
        },
        "7068ad4e5e7344dca213aa5cf65d6fbd": {
          "model_module": "@jupyter-widgets/base",
          "model_name": "LayoutModel",
          "model_module_version": "1.2.0",
          "state": {
            "_model_module": "@jupyter-widgets/base",
            "_model_module_version": "1.2.0",
            "_model_name": "LayoutModel",
            "_view_count": null,
            "_view_module": "@jupyter-widgets/base",
            "_view_module_version": "1.2.0",
            "_view_name": "LayoutView",
            "align_content": null,
            "align_items": null,
            "align_self": null,
            "border": null,
            "bottom": null,
            "display": null,
            "flex": null,
            "flex_flow": null,
            "grid_area": null,
            "grid_auto_columns": null,
            "grid_auto_flow": null,
            "grid_auto_rows": null,
            "grid_column": null,
            "grid_gap": null,
            "grid_row": null,
            "grid_template_areas": null,
            "grid_template_columns": null,
            "grid_template_rows": null,
            "height": null,
            "justify_content": null,
            "justify_items": null,
            "left": null,
            "margin": null,
            "max_height": null,
            "max_width": null,
            "min_height": null,
            "min_width": null,
            "object_fit": null,
            "object_position": null,
            "order": null,
            "overflow": null,
            "overflow_x": null,
            "overflow_y": null,
            "padding": null,
            "right": null,
            "top": null,
            "visibility": null,
            "width": null
          }
        },
        "0674df221b2147a4a2f500d515bc820f": {
          "model_module": "@jupyter-widgets/controls",
          "model_name": "DescriptionStyleModel",
          "model_module_version": "1.5.0",
          "state": {
            "_model_module": "@jupyter-widgets/controls",
            "_model_module_version": "1.5.0",
            "_model_name": "DescriptionStyleModel",
            "_view_count": null,
            "_view_module": "@jupyter-widgets/base",
            "_view_module_version": "1.2.0",
            "_view_name": "StyleView",
            "description_width": ""
          }
        },
        "df5cdd0230a741168381c4b1d205fe62": {
          "model_module": "@jupyter-widgets/controls",
          "model_name": "HBoxModel",
          "model_module_version": "1.5.0",
          "state": {
            "_dom_classes": [],
            "_model_module": "@jupyter-widgets/controls",
            "_model_module_version": "1.5.0",
            "_model_name": "HBoxModel",
            "_view_count": null,
            "_view_module": "@jupyter-widgets/controls",
            "_view_module_version": "1.5.0",
            "_view_name": "HBoxView",
            "box_style": "",
            "children": [
              "IPY_MODEL_726b05a9b74047b0ba97ee86ddd6b9db",
              "IPY_MODEL_3cf40969cd554fc9964dc7fb0eeee727",
              "IPY_MODEL_1b7113c82f384bcb871b9e5f2e33f9f6"
            ],
            "layout": "IPY_MODEL_20f5476252534808bcdfb8ad43ee6119"
          }
        },
        "726b05a9b74047b0ba97ee86ddd6b9db": {
          "model_module": "@jupyter-widgets/controls",
          "model_name": "HTMLModel",
          "model_module_version": "1.5.0",
          "state": {
            "_dom_classes": [],
            "_model_module": "@jupyter-widgets/controls",
            "_model_module_version": "1.5.0",
            "_model_name": "HTMLModel",
            "_view_count": null,
            "_view_module": "@jupyter-widgets/controls",
            "_view_module_version": "1.5.0",
            "_view_name": "HTMLView",
            "description": "",
            "description_tooltip": null,
            "layout": "IPY_MODEL_dd115ac5283c444db7db4e6593e28057",
            "placeholder": "​",
            "style": "IPY_MODEL_4cf030b7a6a14053a7e015d376c8c93b",
            "value": "Generating train split: "
          }
        },
        "3cf40969cd554fc9964dc7fb0eeee727": {
          "model_module": "@jupyter-widgets/controls",
          "model_name": "FloatProgressModel",
          "model_module_version": "1.5.0",
          "state": {
            "_dom_classes": [],
            "_model_module": "@jupyter-widgets/controls",
            "_model_module_version": "1.5.0",
            "_model_name": "FloatProgressModel",
            "_view_count": null,
            "_view_module": "@jupyter-widgets/controls",
            "_view_module_version": "1.5.0",
            "_view_name": "ProgressView",
            "bar_style": "success",
            "description": "",
            "description_tooltip": null,
            "layout": "IPY_MODEL_2623506890c24a299c4e675fe1a410f1",
            "max": 1,
            "min": 0,
            "orientation": "horizontal",
            "style": "IPY_MODEL_c247ad93d9da4d98999e4994861520f5",
            "value": 1
          }
        },
        "1b7113c82f384bcb871b9e5f2e33f9f6": {
          "model_module": "@jupyter-widgets/controls",
          "model_name": "HTMLModel",
          "model_module_version": "1.5.0",
          "state": {
            "_dom_classes": [],
            "_model_module": "@jupyter-widgets/controls",
            "_model_module_version": "1.5.0",
            "_model_name": "HTMLModel",
            "_view_count": null,
            "_view_module": "@jupyter-widgets/controls",
            "_view_module_version": "1.5.0",
            "_view_name": "HTMLView",
            "description": "",
            "description_tooltip": null,
            "layout": "IPY_MODEL_32c9e0f0adff4311a2d544137d13bbb3",
            "placeholder": "​",
            "style": "IPY_MODEL_00eb8016cbce4322bf71e20e9e8b75f8",
            "value": " 272600/0 [00:34&lt;00:00, 13479.18 examples/s]"
          }
        },
        "20f5476252534808bcdfb8ad43ee6119": {
          "model_module": "@jupyter-widgets/base",
          "model_name": "LayoutModel",
          "model_module_version": "1.2.0",
          "state": {
            "_model_module": "@jupyter-widgets/base",
            "_model_module_version": "1.2.0",
            "_model_name": "LayoutModel",
            "_view_count": null,
            "_view_module": "@jupyter-widgets/base",
            "_view_module_version": "1.2.0",
            "_view_name": "LayoutView",
            "align_content": null,
            "align_items": null,
            "align_self": null,
            "border": null,
            "bottom": null,
            "display": null,
            "flex": null,
            "flex_flow": null,
            "grid_area": null,
            "grid_auto_columns": null,
            "grid_auto_flow": null,
            "grid_auto_rows": null,
            "grid_column": null,
            "grid_gap": null,
            "grid_row": null,
            "grid_template_areas": null,
            "grid_template_columns": null,
            "grid_template_rows": null,
            "height": null,
            "justify_content": null,
            "justify_items": null,
            "left": null,
            "margin": null,
            "max_height": null,
            "max_width": null,
            "min_height": null,
            "min_width": null,
            "object_fit": null,
            "object_position": null,
            "order": null,
            "overflow": null,
            "overflow_x": null,
            "overflow_y": null,
            "padding": null,
            "right": null,
            "top": null,
            "visibility": null,
            "width": null
          }
        },
        "dd115ac5283c444db7db4e6593e28057": {
          "model_module": "@jupyter-widgets/base",
          "model_name": "LayoutModel",
          "model_module_version": "1.2.0",
          "state": {
            "_model_module": "@jupyter-widgets/base",
            "_model_module_version": "1.2.0",
            "_model_name": "LayoutModel",
            "_view_count": null,
            "_view_module": "@jupyter-widgets/base",
            "_view_module_version": "1.2.0",
            "_view_name": "LayoutView",
            "align_content": null,
            "align_items": null,
            "align_self": null,
            "border": null,
            "bottom": null,
            "display": null,
            "flex": null,
            "flex_flow": null,
            "grid_area": null,
            "grid_auto_columns": null,
            "grid_auto_flow": null,
            "grid_auto_rows": null,
            "grid_column": null,
            "grid_gap": null,
            "grid_row": null,
            "grid_template_areas": null,
            "grid_template_columns": null,
            "grid_template_rows": null,
            "height": null,
            "justify_content": null,
            "justify_items": null,
            "left": null,
            "margin": null,
            "max_height": null,
            "max_width": null,
            "min_height": null,
            "min_width": null,
            "object_fit": null,
            "object_position": null,
            "order": null,
            "overflow": null,
            "overflow_x": null,
            "overflow_y": null,
            "padding": null,
            "right": null,
            "top": null,
            "visibility": null,
            "width": null
          }
        },
        "4cf030b7a6a14053a7e015d376c8c93b": {
          "model_module": "@jupyter-widgets/controls",
          "model_name": "DescriptionStyleModel",
          "model_module_version": "1.5.0",
          "state": {
            "_model_module": "@jupyter-widgets/controls",
            "_model_module_version": "1.5.0",
            "_model_name": "DescriptionStyleModel",
            "_view_count": null,
            "_view_module": "@jupyter-widgets/base",
            "_view_module_version": "1.2.0",
            "_view_name": "StyleView",
            "description_width": ""
          }
        },
        "2623506890c24a299c4e675fe1a410f1": {
          "model_module": "@jupyter-widgets/base",
          "model_name": "LayoutModel",
          "model_module_version": "1.2.0",
          "state": {
            "_model_module": "@jupyter-widgets/base",
            "_model_module_version": "1.2.0",
            "_model_name": "LayoutModel",
            "_view_count": null,
            "_view_module": "@jupyter-widgets/base",
            "_view_module_version": "1.2.0",
            "_view_name": "LayoutView",
            "align_content": null,
            "align_items": null,
            "align_self": null,
            "border": null,
            "bottom": null,
            "display": null,
            "flex": null,
            "flex_flow": null,
            "grid_area": null,
            "grid_auto_columns": null,
            "grid_auto_flow": null,
            "grid_auto_rows": null,
            "grid_column": null,
            "grid_gap": null,
            "grid_row": null,
            "grid_template_areas": null,
            "grid_template_columns": null,
            "grid_template_rows": null,
            "height": null,
            "justify_content": null,
            "justify_items": null,
            "left": null,
            "margin": null,
            "max_height": null,
            "max_width": null,
            "min_height": null,
            "min_width": null,
            "object_fit": null,
            "object_position": null,
            "order": null,
            "overflow": null,
            "overflow_x": null,
            "overflow_y": null,
            "padding": null,
            "right": null,
            "top": null,
            "visibility": null,
            "width": "20px"
          }
        },
        "c247ad93d9da4d98999e4994861520f5": {
          "model_module": "@jupyter-widgets/controls",
          "model_name": "ProgressStyleModel",
          "model_module_version": "1.5.0",
          "state": {
            "_model_module": "@jupyter-widgets/controls",
            "_model_module_version": "1.5.0",
            "_model_name": "ProgressStyleModel",
            "_view_count": null,
            "_view_module": "@jupyter-widgets/base",
            "_view_module_version": "1.2.0",
            "_view_name": "StyleView",
            "bar_color": null,
            "description_width": ""
          }
        },
        "32c9e0f0adff4311a2d544137d13bbb3": {
          "model_module": "@jupyter-widgets/base",
          "model_name": "LayoutModel",
          "model_module_version": "1.2.0",
          "state": {
            "_model_module": "@jupyter-widgets/base",
            "_model_module_version": "1.2.0",
            "_model_name": "LayoutModel",
            "_view_count": null,
            "_view_module": "@jupyter-widgets/base",
            "_view_module_version": "1.2.0",
            "_view_name": "LayoutView",
            "align_content": null,
            "align_items": null,
            "align_self": null,
            "border": null,
            "bottom": null,
            "display": null,
            "flex": null,
            "flex_flow": null,
            "grid_area": null,
            "grid_auto_columns": null,
            "grid_auto_flow": null,
            "grid_auto_rows": null,
            "grid_column": null,
            "grid_gap": null,
            "grid_row": null,
            "grid_template_areas": null,
            "grid_template_columns": null,
            "grid_template_rows": null,
            "height": null,
            "justify_content": null,
            "justify_items": null,
            "left": null,
            "margin": null,
            "max_height": null,
            "max_width": null,
            "min_height": null,
            "min_width": null,
            "object_fit": null,
            "object_position": null,
            "order": null,
            "overflow": null,
            "overflow_x": null,
            "overflow_y": null,
            "padding": null,
            "right": null,
            "top": null,
            "visibility": null,
            "width": null
          }
        },
        "00eb8016cbce4322bf71e20e9e8b75f8": {
          "model_module": "@jupyter-widgets/controls",
          "model_name": "DescriptionStyleModel",
          "model_module_version": "1.5.0",
          "state": {
            "_model_module": "@jupyter-widgets/controls",
            "_model_module_version": "1.5.0",
            "_model_name": "DescriptionStyleModel",
            "_view_count": null,
            "_view_module": "@jupyter-widgets/base",
            "_view_module_version": "1.2.0",
            "_view_name": "StyleView",
            "description_width": ""
          }
        }
      }
    }
  },
  "cells": [
    {
      "cell_type": "code",
      "execution_count": null,
      "metadata": {
        "colab": {
          "base_uri": "https://localhost:8080/"
        },
        "id": "tNAJZaTlpO5y",
        "outputId": "83a40f30-e8f3-4f86-843e-7d5a88743167"
      },
      "outputs": [
        {
          "output_type": "stream",
          "name": "stdout",
          "text": [
            "Mounted at /content/drive\n"
          ]
        }
      ],
      "source": [
        "# Connect to Google Drive and upload a folder\n",
        "from google.colab import drive\n",
        "drive.mount('/content/drive')"
      ]
    },
    {
      "cell_type": "code",
      "source": [
        "!pip install datasets"
      ],
      "metadata": {
        "colab": {
          "base_uri": "https://localhost:8080/"
        },
        "id": "xJ9U_5x_p_O1",
        "outputId": "f708d70c-fed2-421f-e385-308dc1c33992"
      },
      "execution_count": null,
      "outputs": [
        {
          "output_type": "stream",
          "name": "stdout",
          "text": [
            "Collecting datasets\n",
            "  Downloading datasets-2.14.6-py3-none-any.whl (493 kB)\n",
            "\u001b[2K     \u001b[90m━━━━━━━━━━━━━━━━━━━━━━━━━━━━━━━━━━━━━━━━\u001b[0m \u001b[32m493.7/493.7 kB\u001b[0m \u001b[31m6.0 MB/s\u001b[0m eta \u001b[36m0:00:00\u001b[0m\n",
            "\u001b[?25hRequirement already satisfied: numpy>=1.17 in /usr/local/lib/python3.10/dist-packages (from datasets) (1.23.5)\n",
            "Requirement already satisfied: pyarrow>=8.0.0 in /usr/local/lib/python3.10/dist-packages (from datasets) (9.0.0)\n",
            "Collecting dill<0.3.8,>=0.3.0 (from datasets)\n",
            "  Downloading dill-0.3.7-py3-none-any.whl (115 kB)\n",
            "\u001b[2K     \u001b[90m━━━━━━━━━━━━━━━━━━━━━━━━━━━━━━━━━━━━━━━━\u001b[0m \u001b[32m115.3/115.3 kB\u001b[0m \u001b[31m6.8 MB/s\u001b[0m eta \u001b[36m0:00:00\u001b[0m\n",
            "\u001b[?25hRequirement already satisfied: pandas in /usr/local/lib/python3.10/dist-packages (from datasets) (1.5.3)\n",
            "Requirement already satisfied: requests>=2.19.0 in /usr/local/lib/python3.10/dist-packages (from datasets) (2.31.0)\n",
            "Requirement already satisfied: tqdm>=4.62.1 in /usr/local/lib/python3.10/dist-packages (from datasets) (4.66.1)\n",
            "Requirement already satisfied: xxhash in /usr/local/lib/python3.10/dist-packages (from datasets) (3.4.1)\n",
            "Collecting multiprocess (from datasets)\n",
            "  Downloading multiprocess-0.70.15-py310-none-any.whl (134 kB)\n",
            "\u001b[2K     \u001b[90m━━━━━━━━━━━━━━━━━━━━━━━━━━━━━━━━━━━━━━━━\u001b[0m \u001b[32m134.8/134.8 kB\u001b[0m \u001b[31m6.0 MB/s\u001b[0m eta \u001b[36m0:00:00\u001b[0m\n",
            "\u001b[?25hRequirement already satisfied: fsspec[http]<=2023.10.0,>=2023.1.0 in /usr/local/lib/python3.10/dist-packages (from datasets) (2023.6.0)\n",
            "Requirement already satisfied: aiohttp in /usr/local/lib/python3.10/dist-packages (from datasets) (3.8.6)\n",
            "Collecting huggingface-hub<1.0.0,>=0.14.0 (from datasets)\n",
            "  Downloading huggingface_hub-0.18.0-py3-none-any.whl (301 kB)\n",
            "\u001b[2K     \u001b[90m━━━━━━━━━━━━━━━━━━━━━━━━━━━━━━━━━━━━━━━━\u001b[0m \u001b[32m302.0/302.0 kB\u001b[0m \u001b[31m10.2 MB/s\u001b[0m eta \u001b[36m0:00:00\u001b[0m\n",
            "\u001b[?25hRequirement already satisfied: packaging in /usr/local/lib/python3.10/dist-packages (from datasets) (23.2)\n",
            "Requirement already satisfied: pyyaml>=5.1 in /usr/local/lib/python3.10/dist-packages (from datasets) (6.0.1)\n",
            "Requirement already satisfied: attrs>=17.3.0 in /usr/local/lib/python3.10/dist-packages (from aiohttp->datasets) (23.1.0)\n",
            "Requirement already satisfied: charset-normalizer<4.0,>=2.0 in /usr/local/lib/python3.10/dist-packages (from aiohttp->datasets) (3.3.1)\n",
            "Requirement already satisfied: multidict<7.0,>=4.5 in /usr/local/lib/python3.10/dist-packages (from aiohttp->datasets) (6.0.4)\n",
            "Requirement already satisfied: async-timeout<5.0,>=4.0.0a3 in /usr/local/lib/python3.10/dist-packages (from aiohttp->datasets) (4.0.3)\n",
            "Requirement already satisfied: yarl<2.0,>=1.0 in /usr/local/lib/python3.10/dist-packages (from aiohttp->datasets) (1.9.2)\n",
            "Requirement already satisfied: frozenlist>=1.1.1 in /usr/local/lib/python3.10/dist-packages (from aiohttp->datasets) (1.4.0)\n",
            "Requirement already satisfied: aiosignal>=1.1.2 in /usr/local/lib/python3.10/dist-packages (from aiohttp->datasets) (1.3.1)\n",
            "Requirement already satisfied: filelock in /usr/local/lib/python3.10/dist-packages (from huggingface-hub<1.0.0,>=0.14.0->datasets) (3.12.4)\n",
            "Requirement already satisfied: typing-extensions>=3.7.4.3 in /usr/local/lib/python3.10/dist-packages (from huggingface-hub<1.0.0,>=0.14.0->datasets) (4.5.0)\n",
            "Requirement already satisfied: idna<4,>=2.5 in /usr/local/lib/python3.10/dist-packages (from requests>=2.19.0->datasets) (3.4)\n",
            "Requirement already satisfied: urllib3<3,>=1.21.1 in /usr/local/lib/python3.10/dist-packages (from requests>=2.19.0->datasets) (2.0.7)\n",
            "Requirement already satisfied: certifi>=2017.4.17 in /usr/local/lib/python3.10/dist-packages (from requests>=2.19.0->datasets) (2023.7.22)\n",
            "Requirement already satisfied: python-dateutil>=2.8.1 in /usr/local/lib/python3.10/dist-packages (from pandas->datasets) (2.8.2)\n",
            "Requirement already satisfied: pytz>=2020.1 in /usr/local/lib/python3.10/dist-packages (from pandas->datasets) (2023.3.post1)\n",
            "Requirement already satisfied: six>=1.5 in /usr/local/lib/python3.10/dist-packages (from python-dateutil>=2.8.1->pandas->datasets) (1.16.0)\n",
            "Installing collected packages: dill, multiprocess, huggingface-hub, datasets\n",
            "Successfully installed datasets-2.14.6 dill-0.3.7 huggingface-hub-0.18.0 multiprocess-0.70.15\n"
          ]
        }
      ]
    },
    {
      "cell_type": "code",
      "source": [
        "from datasets import load_dataset\n",
        "import torch\n",
        "import re"
      ],
      "metadata": {
        "id": "UgTcilONpTAk"
      },
      "execution_count": null,
      "outputs": []
    },
    {
      "cell_type": "code",
      "source": [
        "dataset_source = load_dataset('text',data_files=\"/content/drive/MyDrive/Colab Notebooks/AI/train.wp_source\", split=\"train\")\n",
        "dataset_target = load_dataset('text',data_files=\"/content/drive/MyDrive/Colab Notebooks/AI/train.wp_target\", split=\"train\")"
      ],
      "metadata": {
        "colab": {
          "base_uri": "https://localhost:8080/",
          "height": 209,
          "referenced_widgets": [
            "a0680578edca4d24998a0fb3a6205055",
            "fd695c448b68477bb437b048e42a7900",
            "e93f67ecbf8e4c94af095fabddf549da",
            "290f7afa320b410581b940dea962e8c4",
            "071797fea25b449ca0adb4b976e10cf7",
            "2a6aac37ff2c4ee0b12106ed702add24",
            "49c3401cc8d04e9faf1e987a30d59b93",
            "7cbf28e7b29b4ef99f5f3e463987073d",
            "58d7d7f6a85b429ab8132a0fd49eea37",
            "f48df274cddf4429b0fe3c83bafa543f",
            "ecb8b4c60df9473b89528d87791ed712",
            "815e38e7a44e470f93215aa2ac5f0ab7",
            "d27a723f5ac446cbb3905d3dc4490359",
            "6a449c10a56c48f991325fedabda55ab",
            "cc9200f7c870447dae21b41db8f08555",
            "46d53f0cb1c743dca6a06d322d553d97",
            "2b733091dd5442ce97beda6774989d0a",
            "95798d2776464782bfdf73f6ee70ed7b",
            "3e6d2d4c28424c069ebbe3295ede711f",
            "4408f2a862a445c5bebbf6167dca3135",
            "661b9db5d6a44858968c34bcafea320b",
            "0b28441ef3ab46f29b6a7f9c9c4e54aa",
            "2cdf7c7df6d64334895ac7ce59596b9f",
            "630536bb2a2440c3bd39ae3926c0f819",
            "429d9710cdd745d2864ad79597b6600d",
            "08922a229bce425590b6724d62b23781",
            "36d6e05f051e4ae3937c95bd79b9af1d",
            "5acee63aeba8457f9976392021d48185",
            "b087f8f6b57c4a6cb1b2cb5fab140c12",
            "75dec7bf7ae3434091db8530d760204a",
            "cfde118b95d84ce0b913c7a3545bff3a",
            "4d78a9df30b2463782128d5b366eab09",
            "2f0e555ce1214e8ebe56711bf11f023a",
            "41fb96c802984facae110559e66b47ec",
            "006489030e1b4be79d9f55edcda06687",
            "3b3d04243e8248d98f933e01cfbc006d",
            "0d30a346d2ed46978e7a6871fcbf0f82",
            "ad6f3687a8dc4272ac3bfefc347a8843",
            "5fd3548d60c0467eb29916b5b7d6c2ec",
            "fce4229239f9437cbcc675900c5eb691",
            "910e8b75f47d4ac4995545a887bf3482",
            "56405af839224b66bdba0b4ae8ef91d3",
            "32c390307e484c6e8d02d9ec6687b6d3",
            "41f3e987f22e4e54b1735684d7dab2e6",
            "88aa94b8d719406db19f3ea8c59abd06",
            "099f93a0746b4f10aa11eb9476929a22",
            "08a2bb0896014f2eb0240d44c5b4ffbc",
            "c591789304074290811db7788a149fdb",
            "1d88fa97e6134e859f2af96fa88e005c",
            "981a2122d71f4b4c903c38574bb4092a",
            "f072a97043f74d2f850f5fd8b18a8a91",
            "94b9a8bc1d714761a6b7738094a3bdb5",
            "978e1cdda4a04ef0852ac664f3717209",
            "7068ad4e5e7344dca213aa5cf65d6fbd",
            "0674df221b2147a4a2f500d515bc820f",
            "df5cdd0230a741168381c4b1d205fe62",
            "726b05a9b74047b0ba97ee86ddd6b9db",
            "3cf40969cd554fc9964dc7fb0eeee727",
            "1b7113c82f384bcb871b9e5f2e33f9f6",
            "20f5476252534808bcdfb8ad43ee6119",
            "dd115ac5283c444db7db4e6593e28057",
            "4cf030b7a6a14053a7e015d376c8c93b",
            "2623506890c24a299c4e675fe1a410f1",
            "c247ad93d9da4d98999e4994861520f5",
            "32c9e0f0adff4311a2d544137d13bbb3",
            "00eb8016cbce4322bf71e20e9e8b75f8"
          ]
        },
        "id": "HnWCAYTspS87",
        "outputId": "cdc3db19-ea2d-4351-e035-a43d62c3678c"
      },
      "execution_count": null,
      "outputs": [
        {
          "output_type": "display_data",
          "data": {
            "text/plain": [
              "Downloading data files:   0%|          | 0/1 [00:00<?, ?it/s]"
            ],
            "application/vnd.jupyter.widget-view+json": {
              "version_major": 2,
              "version_minor": 0,
              "model_id": "a0680578edca4d24998a0fb3a6205055"
            }
          },
          "metadata": {}
        },
        {
          "output_type": "display_data",
          "data": {
            "text/plain": [
              "Extracting data files:   0%|          | 0/1 [00:00<?, ?it/s]"
            ],
            "application/vnd.jupyter.widget-view+json": {
              "version_major": 2,
              "version_minor": 0,
              "model_id": "815e38e7a44e470f93215aa2ac5f0ab7"
            }
          },
          "metadata": {}
        },
        {
          "output_type": "display_data",
          "data": {
            "text/plain": [
              "Generating train split: 0 examples [00:00, ? examples/s]"
            ],
            "application/vnd.jupyter.widget-view+json": {
              "version_major": 2,
              "version_minor": 0,
              "model_id": "2cdf7c7df6d64334895ac7ce59596b9f"
            }
          },
          "metadata": {}
        },
        {
          "output_type": "display_data",
          "data": {
            "text/plain": [
              "Downloading data files:   0%|          | 0/1 [00:00<?, ?it/s]"
            ],
            "application/vnd.jupyter.widget-view+json": {
              "version_major": 2,
              "version_minor": 0,
              "model_id": "41fb96c802984facae110559e66b47ec"
            }
          },
          "metadata": {}
        },
        {
          "output_type": "display_data",
          "data": {
            "text/plain": [
              "Extracting data files:   0%|          | 0/1 [00:00<?, ?it/s]"
            ],
            "application/vnd.jupyter.widget-view+json": {
              "version_major": 2,
              "version_minor": 0,
              "model_id": "88aa94b8d719406db19f3ea8c59abd06"
            }
          },
          "metadata": {}
        },
        {
          "output_type": "display_data",
          "data": {
            "text/plain": [
              "Generating train split: 0 examples [00:00, ? examples/s]"
            ],
            "application/vnd.jupyter.widget-view+json": {
              "version_major": 2,
              "version_minor": 0,
              "model_id": "df5cdd0230a741168381c4b1d205fe62"
            }
          },
          "metadata": {}
        }
      ]
    },
    {
      "cell_type": "code",
      "source": [
        "len(dataset_source), len(dataset_target)"
      ],
      "metadata": {
        "colab": {
          "base_uri": "https://localhost:8080/"
        },
        "id": "wRT2XWb3pS7I",
        "outputId": "8bc9529c-2fac-4ed7-9964-34f34ec4eb77"
      },
      "execution_count": null,
      "outputs": [
        {
          "output_type": "execute_result",
          "data": {
            "text/plain": [
              "(272600, 272600)"
            ]
          },
          "metadata": {},
          "execution_count": 5
        }
      ]
    },
    {
      "cell_type": "code",
      "source": [
        "dataset_source =  dataset_source.rename_column(\"text\", \"source_text\")\n",
        "dataset_target = dataset_target.rename_column(\"text\", \"target_text\")"
      ],
      "metadata": {
        "id": "zIN3c60hpS5T"
      },
      "execution_count": null,
      "outputs": []
    },
    {
      "cell_type": "code",
      "source": [
        "train_dataset = dataset_source.add_column(\"target_text\", dataset_target['target_text'])"
      ],
      "metadata": {
        "id": "GdRvvdlvpS3N"
      },
      "execution_count": null,
      "outputs": []
    },
    {
      "cell_type": "markdown",
      "source": [
        "SOURSE:\n",
        "\n",
        "    - Tags: [ WP ] Words\n",
        "    - Should we finish it with dot?\n",
        "    - Due to overpopulation everything is legal until you turn 18 . [ WP ]\n",
        "    - [ wp ] I 'm having the worst\n",
        "    - [ WP ] In under 350 words , sell your post-apocalypic utopia\n",
        "    You 're about to be cloned , but bef\n",
        "    (\\n)\n",
        "\n",
        "TARGET:\n",
        "\n",
        "    - <newline>"
      ],
      "metadata": {
        "id": "dMxWmnLBsMQB"
      }
    },
    {
      "cell_type": "code",
      "source": [
        "train_dataset[0]"
      ],
      "metadata": {
        "colab": {
          "base_uri": "https://localhost:8080/"
        },
        "id": "3K4l_N7-pS01",
        "outputId": "8bba9ec6-7a24-4893-dd1f-75f87d73ea19"
      },
      "execution_count": null,
      "outputs": [
        {
          "output_type": "execute_result",
          "data": {
            "text/plain": [
              "{'source_text': \"[ WP ] You 've finally managed to discover the secret to immortality . Suddenly , Death appears before you , hands you a business card , and says , `` When you realize living forever sucks , call this number , I 've got a job offer for you . ''\",\n",
              " 'target_text': \"So many times have I walked on ruins , the remainings of places that I loved and got used to.. At first I was scared , each time I could feel my city , my current generation collapse , break into the black hole that thrives within it , I could feel humanity , the way I 'm able to feel my body.. After a few hundred years , the pattern became obvious , no longer the war and damage that would devastate me over and over again in the far past was effecting me so dominantly . <newline> It 's funny , but I felt as if after gaining what I desired so long , what I have lived for my entire life , only then , when I achieved immortality I started truly aging . <newline> <newline> 5 world wars have passed , and now they feel like a simple sickeness that would pass by every so often , I could no longer evaluate the individual human as a being of its own , the importance of mortals is merely the same as the importance of my skin cells ; They are a part of a mechanism so much more advanced , a mechanism that is so dear to my fallen heart a mechanism that I have seen fall and rise so many times , a mechanism that when lost all of which it had , had me loosing my will to live , for the first time in all of my thousands years of existence . <newline> <newline> Acceptance , something so important . a skill that has proved itself worthy dozens of times , an ability that looks so easy to achieve , a gift , that I was n't able to aquire in all my years , until now . When the ashes on the ground flew into the now empty air upon humanity 's fall , I felt as if all of it 's weight was crushing me . Ignorance took over and I searched years for a hope , a sign of the very same patterns that I used to watch reappear every hundred years , the very core of my will to exist that was now no more that I so strongly wish was . <newline> <newline> If you have ever wondered if silence can drive people crazy , it can.. <newline> I ca n't feel my legs , I have walked for days , just to hear the sound of gravel , crushed bones , crushed buildings and crushed civilizations under my steps to keep my sanity.. until I remembered , the day in my far past . The day of my rebirth , I took out of my pocket a small plastic box , with nine buttons and a small glass window . I could n't believe this was our past , I could n't believe how far we have been able to progress and yet , be destroyed by our own violence . <newline> I slowly dialed the number I was given , exactly 1729 years ago . <newline> <newline> I dropped a tear , a tear that was too slow to hit the ground as I got sucked into the darkness that emerged around me . <newline> <newline> A chill went through my spine as I saw my destiny rise above me , I could see the white teeth under the dark cloack ... <newline> <newline> `` You have finally arrived '' He projected into my mind , with the most chilling cold and unhuman voice . <newline> <newline> `` I 'm ready to obey '' I answered . I knew who was sitting infront of me , and it was time for me to obey him , after all these years of playing god , even I came to it . <newline> <newline> Funny is n't it ? Even by achieving immortality , death , is inescapable .\"}"
            ]
          },
          "metadata": {},
          "execution_count": 8
        }
      ]
    },
    {
      "cell_type": "markdown",
      "source": [
        "WP: Writing Prompt <!-- Main tag -->\n",
        "\n",
        "SP: Simple Prompt\n",
        "\n",
        "EU: Established Universe\n",
        "\n",
        "CW: Constrained Writing\n",
        "\n",
        "TT: Theme Thursday\n",
        "\n",
        "PM: Prompt Me\n",
        "\n",
        "MP: Media Prompt\n",
        "\n",
        "IP: Image Prompt\n",
        "\n",
        "PI: Prompt Inspired\n",
        "\n",
        "OT: Off Topic\n",
        "* OT as an Advertisement!\n",
        "\n",
        "RF: Reality Fiction\n"
      ],
      "metadata": {
        "id": "hIHvdqFwA9NL"
      }
    },
    {
      "cell_type": "code",
      "source": [
        "t = '[ CW ] The Reverse Alphabet Game - The first CW prompt [ Difficulty Level : DAMN NEAR IMPOSSIBLE ]'\n",
        "t = '[ CONTEST ] Flash Prompt in the chat room today ! A $ 20 cash prize will be awarded !'\n",
        "t = \"[ WP ] You recently bought a new cellphone . As you 're messing with it one day , a window opens on the screen saying : `` New Mission Available . Accept ? [ Yes ] / [ No ] ''\"\n",
        "t = \"[ WP ] [ PI ] The protagonist from your latest WP meets the protagonist of your first WP . How does it go ?\"\n",
        "t = \"( WP ) Four years ago , you watched your closest friend enter a portal . Since , you 've waited every day for her to come out . She just stepped out , with a defeated , scared look on her face .\"\n",
        "t = \"[ RF ] / [ WP ] `` 500 Writing Prompts '' Name the top ten things on your bucket list .\"\n",
        "t = \"Writing Prompt [ WP ] You have the ability to freeze time . When you do , everyone freezes as well . One day , you freeze time , and out the window , you see a girl moving around , astounded and confused . Then , she sees you..\"\n",
        "t = \"[ W P ] You get to heaven , God is a dog .\"\n",
        "t = \"You 're writing something new . Every single letter you type brings someone closer to their grave . [ FF ]\"\n",
        "t = \"[ wp ] A straight-to-DVD sequel to Interstellar ( 2014 ) is announced . Write the inevitably bad plot summary\"\n",
        "\n",
        "t = \"[ WP ] The Ides of March ( a collaboration with /r/SketchDaily )\"\n",
        "# t = \"[ TT ] [ RF ] I know she loves me . I just ...\""
      ],
      "metadata": {
        "id": "W3KRPz6k_SCt"
      },
      "execution_count": null,
      "outputs": []
    },
    {
      "cell_type": "code",
      "source": [
        "t = \"Here 's my own story , because I 'm just that full of myself . <newline> ______________ <newline> ______________ <newline> Lucy sped down Interstate 77 , going just as many miles per hour , her breath misty in her still-cold 2003 Toyota . <newline> <newline> “ Think it ’ ll snow again ? ” her younger brother Ryan sighed from the passenger seat . <newline> <newline> “ God , I hope not , ” Lucy scoffed . “ Whenever it snows here , everyone loses their minds . Not just on the road , either . People at school are going nuts over nothing. ” <newline> <newline> “ We ’ re from Minnesota . We know snow . Down here in the South , it ’ s not so easy , ” Ryan said . “ People around here amuse me. ” <newline> <newline> “ But at the same time , I miss snow , ” Lucy lamented . “ I miss when we ’ d have a foot of snow outside and school would still be on . Down here , they ’ re out for a week. ” She shivered . <newline> <newline> “ Maybe Mom will still make us hot chocolate when we get home in a little bit , ” Ryan chuckled . “ If we ask nicely. ” <newline> <newline> “ Yeah , I- “ <newline> <newline> She stopped . There was a person on top of the overpass , about a hundred yards in front of them . <newline> <newline> “ Holy shit , is that Louis ? ” <newline> <newline> If Louis had jumped with the correct timing , he would have landed on the pavement and suffered a worse death . But he did n't . <newline> <newline> Lucy had already slammed on the brakes , but it was too late . Her classmate Louis was on her dashboard , dead on impact , shards of glass piercing every inch of his lifeless body . Lucy felt her mind go numb , and she and Ryan stared at Louis , then at each other , in complete disbelief . <newline> ____ <newline> > OBITUARY <newline> <newline> > Louis R. Hoffman passed away on Monday , February 3rd , 2014 . He was seventeen years of age . <newline> <newline> > Louis was well-loved by his fellow students at Wilson High School , where he was a senior . He was a member of the debate team , Chemistry Club and the marching band . He loved playing his trumpet , walking in the woods , and spending time with his friends . <newline> <newline> > In lieu of flowers , memorial donations may be made to the American Foundation for Suicide Prevention . The family will receive friends from 4-6 P.M. on Friday at— <newline> <newline> Lucy put down the article there . She ’ d had a copy of it since the day of its publication , but she couldn ’ t keep reading . It was now late May , but she could never bring herself to read the whole thing . <newline> <newline> *I ’ m sorry , Louis , * she thought . Every day , she apologized to Louis in her mind for killing him . But this time , it was a different apology . <newline> <newline> *I ’ m sorry I was in the left northbound lane of I-77 at 2:58 PM on Monday , February 3rd , 2014 . I ’ m sorry I couldn ’ t predict that you were going to jump . I ’ m sorry I didn ’ t swerve . I ’ m sorry you died . I ’ m sorry you were feeling so terrible about things that you felt the need to end your life . * <newline> <newline> She sighed . *But most of all , I ’ m sorry I couldn ’ t help you . * <newline> _____ <newline> ______ <newline> ^^What ^^do ^^y'all ^^think ? ^^I ^^feel ^^like ^^I 'm ^^too ^^descriptive , ^^but ^^I ^^really ^^love ^^imagery ^^and ^^descriptiveness ...\""
      ],
      "metadata": {
        "id": "6emvWO-bM-8I"
      },
      "execution_count": null,
      "outputs": []
    },
    {
      "cell_type": "code",
      "source": [
        "def clean_text(text, target=None):\n",
        "\n",
        "    if target:\n",
        "        text = re.sub(r'<newline>\\s*', '\\n', text)\n",
        "        text = re.sub(r'(__)+', '', text)\n",
        "        text = re.sub(r'(^^)+', '', text)\n",
        "        text = re.sub(r'(//)+', '', text)\n",
        "        text = re.sub(r'(--\\s*)+', '-- ', text)\n",
        "        text = re.sub(r'(#\\s*)+', '# ', text)\n",
        "        text = re.sub(r'(\\[{1}\\s*\\]{1})', '', text)\n",
        "        text = re.sub(r\"\\/[r]\\/\", \"\", text)\n",
        "\n",
        "    else:\n",
        "        # text = re.sub(r\"\\[+\\s*\\w+\\s*\\]+\\s*\", \"\", text)\n",
        "        # text = re.sub(r\"[\\[,\\(]+\\s*([w,W,s,S,e,E,c,C,t,T,p,P,m,M,i,I,o,O,r,R]{1}[p,P,u,U,w,W,t,T,m,M,i,I,f,F]{1})+\\s*[\\],\\)]+\\s*\", \"\", text)\n",
        "\n",
        "        # Delete tags [ wp ] - FF ?\n",
        "        text = re.sub(r\"[\\[,\\(]+\\s*([w,W,s,S,e,E,c,C,t,T,p,P,m,M,i,I,o,O,r,R,f,F]{1}\\s?[p,P,u,U,w,W,t,T,m,M,i,I,f,F]{1})+\\s*[\\],\\)]+\\s*\", \"\", text)\n",
        "\n",
        "        # Delete '/r/'\n",
        "        text = re.sub(r\"\\/[r]\\/\", \"\", text)\n",
        "\n",
        "\n",
        "    # Dot (.) at the end of the sentence\n",
        "    if not (re.search(r\"[.]$\", text) or re.search(r\"[\\n]$\", text)):\n",
        "        if re.search(r\"\\s$\", text): text += '.'\n",
        "        else: text += ' .'\n",
        "\n",
        "    return text"
      ],
      "metadata": {
        "id": "tUCCZ22krd4r"
      },
      "execution_count": null,
      "outputs": []
    },
    {
      "cell_type": "code",
      "source": [
        "t = \"# # # # # # [ ] [] [z[]] [ wp ] ( # dropcap ) <newline> <newline> -- -- -- -- -- -- -- -- _________________________________________________________________________________________ -- -- -- -- -- -- -- -- -- -- Mine . Looking up at the walls , I took a deep breath and closed my eyes attempting to relax . Tomorrow would be a far worse day . <newline> A few minutes before . <newline> <newline> That day , dawn broke three minutes later than the average summer morning . The first rays of sun were still contemplating their entry into my house . I was an early riser , but I guess the combination of my age and whiskey from last night , was not exactly the best recipe for an early eye opener . I turned to the other side on my queen sized bed and popped my right eye open to catch the glimpse of the illuminated dust particles . The hinges of the gate opened with the slightest shriek of the choking rust . I jumped up from my bed and immediately knew something was wrong . I picked up my dusty Rolling block Remington from the side wall . I could shoot them down whoever it was , couldn ’ t I ? <newline> <newline> Peeping through the curtains I realized that the day which we had meticulously avoided for over a century was finally here . Nine cops positioned strategically , in banks of three . There was no way I was going to survive this onslaught . How the mighty have fallen ? Within minutes , there was a loud thud followed by several slams that echoed up the hallway and thumped its way through to my bedroom . Were they being polite and asking me to open the door for them ? Surely , not . The crescendo of thuds finally gave way to the crunching sound of my door crashing and footsteps nimbly marching . I screamed “ I am in the bedroom and I am armed . If you step in , I will gun each and every single one of you down. ” <newline> <newline> When you hold the secrets of a lineage of five men over one hundred and twenty seven years like I do , you have to be prepared for the inevitable . Always . Every night , I made sure that my room was a garden of flowers , for I didn ’ t know the morning I would not live to see . I reached for the black case that was the gracious host to my last cigarette for the last fifteen years . It was time to pack up and leave . I had quit smoking several decades ago , when I realized that certain characteristics were better avoided in my line of work . My dad told me , “ Truth is like smoke . It will raise its head and announce its presence. ” I am not sure about the intent of his monologue , but I dropped the cigarette from that day on . The first sip of nicotine as it gushes through the windpipe , swirling and twirling its way into your lungs and right into your head was a hard sensation to resist , but I had kept this one away for this exact day . I had another thirty to forty five seconds before they waste me . <newline> <newline> I took a deep breath , filling my lungs with the serenading essence of jasmine from the candles that lit my room , picked up a cigarette from the black box and lit it up . The first drag was exhilarating as always . Closing my eyes , I took the sealed letter from my robe , put my hands up in the air . The first rays of the burning star , charioted by a gentle breeze caressed the back of my shoulders . What a perfect day to die . <newline> <newline> <newline> <newline> <newline> The letter <newline> //////////////////////////////////////////////////////////////////////////////////////////////////////////////////////////////////// <newline> <newline> <newline> From Hell <newline> <newline> Mr. Lusk , <newline> <newline> Sor , <newline> One hundred and twenty five years back , my great-great grand father gave the chief of your department one half of the ‘ kidne ’ of a woman whose life he had taken . He said he ate the other half . That is not true . Please find the other half in the box by my bed . And say hello , to your daughter Fannie if you see her again , which I highly doubt you will . <newline> <newline> Catch me on the other side , <newline> <newline> Jack the Ripper . <newline> <newline> <newline> ////////////////////////////////////////////////////////////////////////////////////////////////////////////////////////////////////\"\n",
        "\n",
        "print(t.replace('<newline>', '\\n'))\n",
        "print()\n",
        "print(clean_text(t, True))"
      ],
      "metadata": {
        "colab": {
          "base_uri": "https://localhost:8080/"
        },
        "id": "C27-8IB1OqaX",
        "outputId": "77598b5c-4b24-4e8e-844a-7ab1b0611088"
      },
      "execution_count": null,
      "outputs": [
        {
          "output_type": "stream",
          "name": "stdout",
          "text": [
            "# # # # # # [ ] [] [z[]] [ wp ] ( # dropcap ) \n",
            " \n",
            " -- -- -- -- -- -- -- -- _________________________________________________________________________________________ -- -- -- -- -- -- -- -- -- -- Mine . Looking up at the walls , I took a deep breath and closed my eyes attempting to relax . Tomorrow would be a far worse day . \n",
            " A few minutes before . \n",
            " \n",
            " That day , dawn broke three minutes later than the average summer morning . The first rays of sun were still contemplating their entry into my house . I was an early riser , but I guess the combination of my age and whiskey from last night , was not exactly the best recipe for an early eye opener . I turned to the other side on my queen sized bed and popped my right eye open to catch the glimpse of the illuminated dust particles . The hinges of the gate opened with the slightest shriek of the choking rust . I jumped up from my bed and immediately knew something was wrong . I picked up my dusty Rolling block Remington from the side wall . I could shoot them down whoever it was , couldn ’ t I ? \n",
            " \n",
            " Peeping through the curtains I realized that the day which we had meticulously avoided for over a century was finally here . Nine cops positioned strategically , in banks of three . There was no way I was going to survive this onslaught . How the mighty have fallen ? Within minutes , there was a loud thud followed by several slams that echoed up the hallway and thumped its way through to my bedroom . Were they being polite and asking me to open the door for them ? Surely , not . The crescendo of thuds finally gave way to the crunching sound of my door crashing and footsteps nimbly marching . I screamed “ I am in the bedroom and I am armed . If you step in , I will gun each and every single one of you down. ” \n",
            " \n",
            " When you hold the secrets of a lineage of five men over one hundred and twenty seven years like I do , you have to be prepared for the inevitable . Always . Every night , I made sure that my room was a garden of flowers , for I didn ’ t know the morning I would not live to see . I reached for the black case that was the gracious host to my last cigarette for the last fifteen years . It was time to pack up and leave . I had quit smoking several decades ago , when I realized that certain characteristics were better avoided in my line of work . My dad told me , “ Truth is like smoke . It will raise its head and announce its presence. ” I am not sure about the intent of his monologue , but I dropped the cigarette from that day on . The first sip of nicotine as it gushes through the windpipe , swirling and twirling its way into your lungs and right into your head was a hard sensation to resist , but I had kept this one away for this exact day . I had another thirty to forty five seconds before they waste me . \n",
            " \n",
            " I took a deep breath , filling my lungs with the serenading essence of jasmine from the candles that lit my room , picked up a cigarette from the black box and lit it up . The first drag was exhilarating as always . Closing my eyes , I took the sealed letter from my robe , put my hands up in the air . The first rays of the burning star , charioted by a gentle breeze caressed the back of my shoulders . What a perfect day to die . \n",
            " \n",
            " \n",
            " \n",
            " \n",
            " The letter \n",
            " //////////////////////////////////////////////////////////////////////////////////////////////////////////////////////////////////// \n",
            " \n",
            " \n",
            " From Hell \n",
            " \n",
            " Mr. Lusk , \n",
            " \n",
            " Sor , \n",
            " One hundred and twenty five years back , my great-great grand father gave the chief of your department one half of the ‘ kidne ’ of a woman whose life he had taken . He said he ate the other half . That is not true . Please find the other half in the box by my bed . And say hello , to your daughter Fannie if you see her again , which I highly doubt you will . \n",
            " \n",
            " Catch me on the other side , \n",
            " \n",
            " Jack the Ripper . \n",
            " \n",
            " \n",
            " ////////////////////////////////////////////////////////////////////////////////////////////////////////////////////////////////////\n",
            "\n",
            "#   [z] [ wp ] ( # dropcap ) \n",
            "\n",
            "-- _ -- Mine . Looking up at the walls , I took a deep breath and closed my eyes attempting to relax . Tomorrow would be a far worse day . \n",
            "A few minutes before . \n",
            "\n",
            "That day , dawn broke three minutes later than the average summer morning . The first rays of sun were still contemplating their entry into my house . I was an early riser , but I guess the combination of my age and whiskey from last night , was not exactly the best recipe for an early eye opener . I turned to the other side on my queen sized bed and popped my right eye open to catch the glimpse of the illuminated dust particles . The hinges of the gate opened with the slightest shriek of the choking rust . I jumped up from my bed and immediately knew something was wrong . I picked up my dusty Rolling block Remington from the side wall . I could shoot them down whoever it was , couldn ’ t I ? \n",
            "\n",
            "Peeping through the curtains I realized that the day which we had meticulously avoided for over a century was finally here . Nine cops positioned strategically , in banks of three . There was no way I was going to survive this onslaught . How the mighty have fallen ? Within minutes , there was a loud thud followed by several slams that echoed up the hallway and thumped its way through to my bedroom . Were they being polite and asking me to open the door for them ? Surely , not . The crescendo of thuds finally gave way to the crunching sound of my door crashing and footsteps nimbly marching . I screamed “ I am in the bedroom and I am armed . If you step in , I will gun each and every single one of you down. ” \n",
            "\n",
            "When you hold the secrets of a lineage of five men over one hundred and twenty seven years like I do , you have to be prepared for the inevitable . Always . Every night , I made sure that my room was a garden of flowers , for I didn ’ t know the morning I would not live to see . I reached for the black case that was the gracious host to my last cigarette for the last fifteen years . It was time to pack up and leave . I had quit smoking several decades ago , when I realized that certain characteristics were better avoided in my line of work . My dad told me , “ Truth is like smoke . It will raise its head and announce its presence. ” I am not sure about the intent of his monologue , but I dropped the cigarette from that day on . The first sip of nicotine as it gushes through the windpipe , swirling and twirling its way into your lungs and right into your head was a hard sensation to resist , but I had kept this one away for this exact day . I had another thirty to forty five seconds before they waste me . \n",
            "\n",
            "I took a deep breath , filling my lungs with the serenading essence of jasmine from the candles that lit my room , picked up a cigarette from the black box and lit it up . The first drag was exhilarating as always . Closing my eyes , I took the sealed letter from my robe , put my hands up in the air . The first rays of the burning star , charioted by a gentle breeze caressed the back of my shoulders . What a perfect day to die . \n",
            "\n",
            "\n",
            "\n",
            "\n",
            "The letter \n",
            " \n",
            "\n",
            "\n",
            "From Hell \n",
            "\n",
            "Mr. Lusk , \n",
            "\n",
            "Sor , \n",
            "One hundred and twenty five years back , my great-great grand father gave the chief of your department one half of the ‘ kidne ’ of a woman whose life he had taken . He said he ate the other half . That is not true . Please find the other half in the box by my bed . And say hello , to your daughter Fannie if you see her again , which I highly doubt you will . \n",
            "\n",
            "Catch me on the other side , \n",
            "\n",
            "Jack the Ripper . \n",
            "\n",
            "\n",
            "\n"
          ]
        }
      ]
    },
    {
      "cell_type": "code",
      "source": [
        "t = \"[ W P ] You get to heaven , God is a dog \"\n",
        "\n",
        "clean_text(t)"
      ],
      "metadata": {
        "colab": {
          "base_uri": "https://localhost:8080/",
          "height": 35
        },
        "id": "2r-SEK_3I0rD",
        "outputId": "336b1f3e-06b0-4da1-e29b-7fd1a4b4cb8d"
      },
      "execution_count": null,
      "outputs": [
        {
          "output_type": "execute_result",
          "data": {
            "text/plain": [
              "'You get to heaven , God is a dog .'"
            ],
            "application/vnd.google.colaboratory.intrinsic+json": {
              "type": "string"
            }
          },
          "metadata": {},
          "execution_count": 136
        }
      ]
    },
    {
      "cell_type": "code",
      "source": [
        "idea = clean_text(train_dataset[0][\"source_text\"])"
      ],
      "metadata": {
        "id": "h_s0iwsFsA5r"
      },
      "execution_count": null,
      "outputs": []
    },
    {
      "cell_type": "code",
      "source": [
        "idea"
      ],
      "metadata": {
        "id": "bnOHUBq_sA4k",
        "colab": {
          "base_uri": "https://localhost:8080/",
          "height": 52
        },
        "outputId": "22ada3cf-97b3-42ca-9ac2-6afc18ce488e"
      },
      "execution_count": null,
      "outputs": [
        {
          "output_type": "execute_result",
          "data": {
            "text/plain": [
              "\"[ WP ] You 've finally managed to discover the secret to immortality . Suddenly , Death appears before you , hands you a business card , and says , `` When you realize living forever sucks , call this number , I 've got a job offer for you . ''\""
            ],
            "application/vnd.google.colaboratory.intrinsic+json": {
              "type": "string"
            }
          },
          "metadata": {},
          "execution_count": 11
        }
      ]
    },
    {
      "cell_type": "code",
      "source": [],
      "metadata": {
        "id": "oAyx3jSIsAyy"
      },
      "execution_count": null,
      "outputs": []
    },
    {
      "cell_type": "code",
      "source": [
        "DEFAULT_SYSTEM_PROMPT = \"\"\"\n",
        "Below is a story idea. Write a short story based on this context.\n",
        "\"\"\".strip()"
      ],
      "metadata": {
        "id": "KeXgLAJsrjNb"
      },
      "execution_count": null,
      "outputs": []
    },
    {
      "cell_type": "code",
      "source": [
        "def generate_training_prompt(\n",
        "    idea: str, story: str, system_prompt: str = DEFAULT_SYSTEM_PROMPT\n",
        ") -> str:\n",
        "    return f\"\"\"### Instruction: {system_prompt}\n",
        "\n",
        "### Input:\n",
        "{idea.strip()}\n",
        "\n",
        "### Response:\n",
        "{story}\n",
        "\"\"\".strip()"
      ],
      "metadata": {
        "id": "Z6-MkTy1rd-L"
      },
      "execution_count": null,
      "outputs": []
    },
    {
      "cell_type": "code",
      "source": [
        "def generate_text(data_point):\n",
        "    idea = clean_text(data_point[\"source_text\"])\n",
        "    story = clean_text(data_point[\"target_text\"], True)\n",
        "\n",
        "\n",
        "    return {\n",
        "        \"idea\": idea,\n",
        "        \"story\": story,\n",
        "        \"prompt\": generate_training_prompt(idea, story),\n",
        "    }"
      ],
      "metadata": {
        "id": "8XBYuShZpSyv"
      },
      "execution_count": null,
      "outputs": []
    },
    {
      "cell_type": "code",
      "source": [
        "example = generate_text(train_dataset[0])\n",
        "print(example['prompt'])"
      ],
      "metadata": {
        "colab": {
          "base_uri": "https://localhost:8080/"
        },
        "id": "KMvuWyH7qyCf",
        "outputId": "ae1f7273-d56c-41ba-cc88-7772dc8eedff"
      },
      "execution_count": null,
      "outputs": [
        {
          "output_type": "stream",
          "name": "stdout",
          "text": [
            "### Instruction: Below is a story idea. Write a short story based on this context.\n",
            "\n",
            "### Input:\n",
            "You 've finally managed to discover the secret to immortality . Suddenly , Death appears before you , hands you a business card , and says , `` When you realize living forever sucks , call this number , I 've got a job offer for you . '' .\n",
            "\n",
            "### Response:\n",
            "So many times have I walked on ruins , the remainings of places that I loved and got used to.. At first I was scared , each time I could feel my city , my current generation collapse , break into the black hole that thrives within it , I could feel humanity , the way I 'm able to feel my body.. After a few hundred years , the pattern became obvious , no longer the war and damage that would devastate me over and over again in the far past was effecting me so dominantly . \n",
            "It 's funny , but I felt as if after gaining what I desired so long , what I have lived for my entire life , only then , when I achieved immortality I started truly aging . \n",
            "\n",
            "5 world wars have passed , and now they feel like a simple sickeness that would pass by every so often , I could no longer evaluate the individual human as a being of its own , the importance of mortals is merely the same as the importance of my skin cells ; They are a part of a mechanism so much more advanced , a mechanism that is so dear to my fallen heart a mechanism that I have seen fall and rise so many times , a mechanism that when lost all of which it had , had me loosing my will to live , for the first time in all of my thousands years of existence . \n",
            "\n",
            "Acceptance , something so important . a skill that has proved itself worthy dozens of times , an ability that looks so easy to achieve , a gift , that I was n't able to aquire in all my years , until now . When the ashes on the ground flew into the now empty air upon humanity 's fall , I felt as if all of it 's weight was crushing me . Ignorance took over and I searched years for a hope , a sign of the very same patterns that I used to watch reappear every hundred years , the very core of my will to exist that was now no more that I so strongly wish was . \n",
            "\n",
            "If you have ever wondered if silence can drive people crazy , it can.. \n",
            "I ca n't feel my legs , I have walked for days , just to hear the sound of gravel , crushed bones , crushed buildings and crushed civilizations under my steps to keep my sanity.. until I remembered , the day in my far past . The day of my rebirth , I took out of my pocket a small plastic box , with nine buttons and a small glass window . I could n't believe this was our past , I could n't believe how far we have been able to progress and yet , be destroyed by our own violence . \n",
            "I slowly dialed the number I was given , exactly 1729 years ago . \n",
            "\n",
            "I dropped a tear , a tear that was too slow to hit the ground as I got sucked into the darkness that emerged around me . \n",
            "\n",
            "A chill went through my spine as I saw my destiny rise above me , I could see the white teeth under the dark cloack ... \n",
            "\n",
            "`` You have finally arrived '' He projected into my mind , with the most chilling cold and unhuman voice . \n",
            "\n",
            "`` I 'm ready to obey '' I answered . I knew who was sitting infront of me , and it was time for me to obey him , after all these years of playing god , even I came to it . \n",
            "\n",
            "Funny is n't it ? Even by achieving immortality , death , is inescapable .\n"
          ]
        }
      ]
    },
    {
      "cell_type": "code",
      "source": [],
      "metadata": {
        "id": "-etg1482rZhr"
      },
      "execution_count": null,
      "outputs": []
    },
    {
      "cell_type": "code",
      "source": [],
      "metadata": {
        "id": "tN2pts5arZcd"
      },
      "execution_count": null,
      "outputs": []
    },
    {
      "cell_type": "code",
      "source": [],
      "metadata": {
        "id": "bGFKlDnyrZbf"
      },
      "execution_count": null,
      "outputs": []
    },
    {
      "cell_type": "code",
      "source": [],
      "metadata": {
        "id": "-U29y1HOrZX5"
      },
      "execution_count": null,
      "outputs": []
    },
    {
      "cell_type": "code",
      "source": [],
      "metadata": {
        "id": "w_5mZV6wqzl_"
      },
      "execution_count": null,
      "outputs": []
    },
    {
      "cell_type": "code",
      "source": [],
      "metadata": {
        "id": "5W_pjML7qzk0"
      },
      "execution_count": null,
      "outputs": []
    },
    {
      "cell_type": "code",
      "source": [],
      "metadata": {
        "id": "38-ct-npqzbm"
      },
      "execution_count": null,
      "outputs": []
    }
  ]
}